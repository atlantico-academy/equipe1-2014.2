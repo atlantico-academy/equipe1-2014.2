{
 "cells": [
  {
   "cell_type": "markdown",
   "id": "0e9097b4-f8f3-4e9b-8364-cf533a28aa06",
   "metadata": {},
   "source": [
    "# Análise Comparativa de Modelos"
   ]
  },
  {
   "cell_type": "markdown",
   "id": "3493e1ab-b3ff-4a2d-a65e-b1952dec9778",
   "metadata": {
    "tags": []
   },
   "source": [
    "<div><h2>Visão Geral</h2></div>"
   ]
  },
  {
   "cell_type": "markdown",
   "id": "9f66026a-a3c8-4347-a22d-20b711aa9041",
   "metadata": {},
   "source": [
    "Neste estudo, o objetivo é prever a eficiência do sono com base em diversas características relacionadas ao estilo de vida e saúde dos indivíduos. O conjunto de dados utilizado, intitulado **Sleep Efficiency** e presente na plataforma **[Kaggle](https://www.kaggle.com/datasets/equilibriumm/sleep-efficiency/data)**, foi obtido para fins de análise exploratória e modelagem preditiva.\n",
    "\n",
    "A metodologia adotada foi estruturada nas seguintes etapas: \n",
    "\n",
    "* **Obtenção de Dados**\n",
    "* **Padronização de Variáveis**\n",
    "* **Preparação dos Dados**\n",
    "* **Modelagem Preditiva**\n",
    "\n",
    "---"
   ]
  },
  {
   "cell_type": "markdown",
   "id": "e205cc8e-a214-4c1f-9f5a-5d66aba6bc6e",
   "metadata": {
    "tags": []
   },
   "source": [
    "<div><h2>Metodologia</h2></div>"
   ]
  },
  {
   "cell_type": "markdown",
   "id": "4d47b210-f82d-4b3a-9460-43a3ca54b002",
   "metadata": {},
   "source": [
    "### Obtenção de Dados:\n",
    "\n",
    "Nesta etapa, foi configurado o ambiente com a importação das bibliotecas do Python necessárias para preparação e modelagem, como *Pandas*, *Numpy*, *Scikit-Learn* e *Scipy*. Em seguida, o conjunto de dados **Sleep Efficiency** foi carregado, apresentada uma caracterização geral do conjunto e carregado o dicionário de dados. \n",
    "\n",
    "### Padronização de Variáveis:\n",
    "\n",
    "Nesta etapa, realizou-se a padronização das variáveis do conjunto de dados. As variáveis categóricas foram convertidas para o tipo `category`. As variáveis de data e hora foram convertida para o tipo `datetime`, gerando novas variáveis. Os valores de consumo de álcool foram convertidos da unidade de medida onça (oz) para grama (g). Além disso, algumas colunas não relevantes para o modelo foram excluídas, e as demais foram renomeadas para o padrão `snake_case`.\n",
    "\n",
    "### Preparação de Dados:\n",
    "\n",
    "Esta etapa envolve a limpeza e transformação de dados necessárias para garantir que os dados estejam prontos para a modelagem. Isso inclui:\n",
    "\n",
    "- **Tratamento de dados faltantes:** As colunas com valores faltantes foram tratadas utilizando o **Simple Imputer** do Scikit-Learn. Para as variáveis numéricas, os valores faltantes foram imputados utilizando a mediana. Já para as variáveis categóricas, como `Smoking Status`, foi utilizada a imputação de valores faltantes pela moda.\n",
    "\n",
    "- **Tratamento de outliers**: Os outliers foram tratados utilizando o **Método de Capping** baseado no Intervalo Interquartil (IQR), que limita os valores dos dados dentro de intervalos definidos para evitar distorções. Esse método estabelece limites superior e inferior com base nos percentis especificados (por padrão, 5% e 95%) e ajusta os valores extremos para esses limites.\n",
    "\n",
    "- **Codificação de variáveis:** As variáveis categóricas `Smoking Status` e `Gender` foram codificadas utilizando o **One-Hot Encoder** do Scikit-Learn, facilitando a aplicação em algoritmos de aprendizado de máquina.\n",
    "\n",
    "- **Normalização de variáveis:** As variáveis numéricas foram identificadas e normalizadas utilizando o **Standard Scaler** do Scikit-Learn. O scaler foi aplicado para transformar as colunas selecionadas em uma escala comum, resultando em um conjunto de dados com valores normalizados.\n",
    "    \n",
    "### Modelagem Preditiva:\n",
    "\n",
    "- **Regressão Linear**: Um modelo fundamental de regressão que ajusta uma linha reta aos dados para prever uma variável contínua. É simples e rápido, ideal para relações lineares entre variáveis.\n",
    "\n",
    "- **Regressão Ridge**: Um modelo de regressão que incorpora um termo de regularização para controlar a magnitude dos coeficientes e evitar overfitting. É eficaz em cenários com multicolinearidade ou quando o número de variáveis é grande.\n",
    "\n",
    "- **Regressão Lasso**: Um modelo de regressão que também inclui regularização, mas com a capacidade adicional de realizar seleção de variáveis ao forçar alguns coeficientes a zero. Isso ajuda a simplificar o modelo e melhorar a interpretabilidade.\n",
    "\n",
    "- **Random Forest Regressor**: Um modelo avançado que combina múltiplas árvores de decisão em um ensemble para melhorar a precisão e reduzir o risco de overfitting. Ele é eficaz em dados com muitas variáveis e interações complexas, proporcionando robustez e alta capacidade de generalização.\n",
    "\n",
    "#### Validação de Modelos\n",
    "\n",
    "A validação cruzada com k-fold (k=5) foi usada para garantir resultados mais confiáveis e aplicáveis. Isso permite avaliar cada modelo em diferentes partes do conjunto de dados, evitando depender de apenas uma divisão específica dos dados.\n",
    "\n",
    "**Este notebook é uma ferramenta prática para aprender e aplicar técnicas de machine learning em problemas relacionados à eficiência do sono. No final, queremos encontrar o melhor modelo para o conjunto de dados Sleep Efficiency e obter insights sobre como otimizar a saúde e o bem-estar com base em padrões de sono.**\n",
    "    \n",
    "--- "
   ]
  },
  {
   "cell_type": "markdown",
   "id": "5fe6098b-c173-4aea-a1ef-bd1ad9b1674f",
   "metadata": {
    "tags": []
   },
   "source": [
    "<div><h2>Sumário</h2></div>"
   ]
  },
  {
   "cell_type": "markdown",
   "id": "aa7b9a96-6ae4-450c-ae46-6754d093fbc8",
   "metadata": {},
   "source": [
    "1. [Obtenção dos dados](#obtencao_dados)<br>\n",
    "1.1. [Configuração do ambiente](#configuracao_ambiente)<br>\n",
    "1.2. [Leitura do Conjunto de dados](#leitura_dados)<br>\n",
    "1.3. [Dicionário de dados](#dicionario_dados)<br>\n",
    "1.4. [Conjunto de dados](#conjunto_dados)<br>\n",
    "1.5. [Dados faltantes ou nulos](#dados_faltantes)<br>\n",
    "1.6. [Identificação e visualização de outliers](#outliers)<br>\n",
    "2. [Padronização de variáveis](#padronizacao)<br>\n",
    "2.1. [Conversão de variáveis categóricas](#dados_categoricos)<br>\n",
    "2.2. [Conversão e separação de variáveis temporais](#dados_temporais)<br>\n",
    "2.3. [Conversão de unidades: onça (oz) para grama (g)](#conversa_unidades)<br>\n",
    "2.4. [Excluindo colunas desnecessárias](#excluir_colunas)<br>\n",
    "2.5. [Renomeando colunas](#renomear_colunas)<br>\n",
    "2.6. [Atualização do dicionário de dados](#dicionario_atualizado)<br>\n",
    "3. [Preparação de dados](#preparacao_dados)<br>\n",
    "3.1. [Preparação das variáveis para análise](#preparo_variaveis)<br>\n",
    "3.2. [Variável alvo e variáveis preditoras](#variavel_alvo)<br>\n",
    "3.3. [Tratamento de outliers](#tratamento_outliers)<br>\n",
    "3.4. [Pipeline de pré-processamento de dados](#tratamento_dados)<br>\n",
    "3.5. [Verificação de dados após o pré-processamento](#verificacao_dados)\n",
    "\n",
    "---"
   ]
  },
  {
   "cell_type": "markdown",
   "id": "e4591d9c-3fb7-40e1-9351-80347dcfffc4",
   "metadata": {
    "tags": []
   },
   "source": [
    "<div id='descricao'><h2>1. Obtenção de dados</h2></div>"
   ]
  },
  {
   "cell_type": "markdown",
   "id": "ecfafe57-d8d6-458a-ac97-95c6c224d89b",
   "metadata": {},
   "source": [
    "Nesta etapa, serão obtidos novamente os arquivos brutos de dados e o dicionário antes de iniciar a etapa de pré-processamento."
   ]
  },
  {
   "cell_type": "markdown",
   "id": "fa31b5d6-9e57-49cc-aeaf-868e311c5469",
   "metadata": {},
   "source": [
    "<div id='configuracao_ambiente'><h3>1.1. Configuração do ambiente</h3></div> "
   ]
  },
  {
   "cell_type": "code",
   "execution_count": 28,
   "id": "38170208-d376-4b36-94fd-57d2c8743902",
   "metadata": {
    "tags": []
   },
   "outputs": [],
   "source": [
    "# Importação de bibliotecas\n",
    "\n",
    "import pandas as pd\n",
    "import matplotlib.pyplot as plt\n",
    "import numpy as np\n",
    "import warnings\n",
    "import seaborn as sns\n",
    "\n",
    "from IPython.display import display, Markdown\n",
    "from IPython.display import HTML, display\n",
    "\n",
    "from sklearn.pipeline import Pipeline\n",
    "from sklearn.impute import SimpleImputer\n",
    "from sklearn.preprocessing import StandardScaler, MinMaxScaler, OneHotEncoder, OrdinalEncoder, LabelEncoder\n",
    "from sklearn.compose import ColumnTransformer\n",
    "from sklearn.linear_model import LogisticRegression\n",
    "from sklearn.model_selection import train_test_split, GridSearchCV, cross_validate, StratifiedKFold\n",
    "from sklearn.metrics import make_scorer, mean_squared_error\n",
    "from sklearn.linear_model import LinearRegression, Ridge, Lasso\n",
    "from sklearn.ensemble import RandomForestRegressor\n",
    "\n",
    "from sklearn.neighbors import KNeighborsClassifier\n",
    "from sklearn.model_selection import ShuffleSplit, GridSearchCV, KFold, cross_validate\n",
    "from sklearn.svm import SVC\n",
    "from sklearn.tree import DecisionTreeClassifier\n",
    "from sklearn.ensemble import RandomForestClassifier\n",
    "from sklearn.base import BaseEstimator, TransformerMixin\n",
    "from scipy import stats\n",
    "\n",
    "# Definindo a paleta de cores\n",
    "colors = [\"#BBD4D4\",\"#A786A7\",\"#74BDC1\",\"#40596F\"]\n",
    "sns.set_theme(style=\"ticks\")\n",
    "sns.set_palette(sns.color_palette(colors))"
   ]
  },
  {
   "cell_type": "markdown",
   "id": "c7697143-02d5-4e73-b6a5-c4a631bfd28c",
   "metadata": {},
   "source": [
    "<div id='leitura_dados'><h3>1.2. Leitura do conjunto de dados</h3></div> "
   ]
  },
  {
   "cell_type": "code",
   "execution_count": 29,
   "id": "7d2beffe-6a11-49dc-a766-01c4680049c2",
   "metadata": {
    "tags": []
   },
   "outputs": [
    {
     "data": {
      "text/html": [
       "<div>\n",
       "<style scoped>\n",
       "    .dataframe tbody tr th:only-of-type {\n",
       "        vertical-align: middle;\n",
       "    }\n",
       "\n",
       "    .dataframe tbody tr th {\n",
       "        vertical-align: top;\n",
       "    }\n",
       "\n",
       "    .dataframe thead th {\n",
       "        text-align: right;\n",
       "    }\n",
       "</style>\n",
       "<table border=\"1\" class=\"dataframe\">\n",
       "  <thead>\n",
       "    <tr style=\"text-align: right;\">\n",
       "      <th></th>\n",
       "      <th>ID</th>\n",
       "      <th>Age</th>\n",
       "      <th>Gender</th>\n",
       "      <th>Bedtime</th>\n",
       "      <th>Wakeup time</th>\n",
       "      <th>Sleep duration</th>\n",
       "      <th>Sleep efficiency</th>\n",
       "      <th>REM sleep percentage</th>\n",
       "      <th>Deep sleep percentage</th>\n",
       "      <th>Light sleep percentage</th>\n",
       "      <th>Awakenings</th>\n",
       "      <th>Caffeine consumption</th>\n",
       "      <th>Alcohol consumption</th>\n",
       "      <th>Smoking status</th>\n",
       "      <th>Exercise frequency</th>\n",
       "    </tr>\n",
       "  </thead>\n",
       "  <tbody>\n",
       "    <tr>\n",
       "      <th>0</th>\n",
       "      <td>1</td>\n",
       "      <td>65</td>\n",
       "      <td>Female</td>\n",
       "      <td>2021-03-06 01:00:00</td>\n",
       "      <td>2021-03-06 07:00:00</td>\n",
       "      <td>6.0</td>\n",
       "      <td>0.88</td>\n",
       "      <td>18</td>\n",
       "      <td>70</td>\n",
       "      <td>12</td>\n",
       "      <td>0.0</td>\n",
       "      <td>0.0</td>\n",
       "      <td>0.0</td>\n",
       "      <td>Yes</td>\n",
       "      <td>3.0</td>\n",
       "    </tr>\n",
       "    <tr>\n",
       "      <th>1</th>\n",
       "      <td>2</td>\n",
       "      <td>69</td>\n",
       "      <td>Male</td>\n",
       "      <td>2021-12-05 02:00:00</td>\n",
       "      <td>2021-12-05 09:00:00</td>\n",
       "      <td>7.0</td>\n",
       "      <td>0.66</td>\n",
       "      <td>19</td>\n",
       "      <td>28</td>\n",
       "      <td>53</td>\n",
       "      <td>3.0</td>\n",
       "      <td>0.0</td>\n",
       "      <td>3.0</td>\n",
       "      <td>Yes</td>\n",
       "      <td>3.0</td>\n",
       "    </tr>\n",
       "    <tr>\n",
       "      <th>2</th>\n",
       "      <td>3</td>\n",
       "      <td>40</td>\n",
       "      <td>Female</td>\n",
       "      <td>2021-05-25 21:30:00</td>\n",
       "      <td>2021-05-25 05:30:00</td>\n",
       "      <td>8.0</td>\n",
       "      <td>0.89</td>\n",
       "      <td>20</td>\n",
       "      <td>70</td>\n",
       "      <td>10</td>\n",
       "      <td>1.0</td>\n",
       "      <td>0.0</td>\n",
       "      <td>0.0</td>\n",
       "      <td>No</td>\n",
       "      <td>3.0</td>\n",
       "    </tr>\n",
       "    <tr>\n",
       "      <th>3</th>\n",
       "      <td>4</td>\n",
       "      <td>40</td>\n",
       "      <td>Female</td>\n",
       "      <td>2021-11-03 02:30:00</td>\n",
       "      <td>2021-11-03 08:30:00</td>\n",
       "      <td>6.0</td>\n",
       "      <td>0.51</td>\n",
       "      <td>23</td>\n",
       "      <td>25</td>\n",
       "      <td>52</td>\n",
       "      <td>3.0</td>\n",
       "      <td>50.0</td>\n",
       "      <td>5.0</td>\n",
       "      <td>Yes</td>\n",
       "      <td>1.0</td>\n",
       "    </tr>\n",
       "    <tr>\n",
       "      <th>4</th>\n",
       "      <td>5</td>\n",
       "      <td>57</td>\n",
       "      <td>Male</td>\n",
       "      <td>2021-03-13 01:00:00</td>\n",
       "      <td>2021-03-13 09:00:00</td>\n",
       "      <td>8.0</td>\n",
       "      <td>0.76</td>\n",
       "      <td>27</td>\n",
       "      <td>55</td>\n",
       "      <td>18</td>\n",
       "      <td>3.0</td>\n",
       "      <td>0.0</td>\n",
       "      <td>3.0</td>\n",
       "      <td>No</td>\n",
       "      <td>3.0</td>\n",
       "    </tr>\n",
       "  </tbody>\n",
       "</table>\n",
       "</div>"
      ],
      "text/plain": [
       "   ID  Age  Gender              Bedtime          Wakeup time  Sleep duration  \\\n",
       "0   1   65  Female  2021-03-06 01:00:00  2021-03-06 07:00:00             6.0   \n",
       "1   2   69    Male  2021-12-05 02:00:00  2021-12-05 09:00:00             7.0   \n",
       "2   3   40  Female  2021-05-25 21:30:00  2021-05-25 05:30:00             8.0   \n",
       "3   4   40  Female  2021-11-03 02:30:00  2021-11-03 08:30:00             6.0   \n",
       "4   5   57    Male  2021-03-13 01:00:00  2021-03-13 09:00:00             8.0   \n",
       "\n",
       "   Sleep efficiency  REM sleep percentage  Deep sleep percentage  \\\n",
       "0              0.88                    18                     70   \n",
       "1              0.66                    19                     28   \n",
       "2              0.89                    20                     70   \n",
       "3              0.51                    23                     25   \n",
       "4              0.76                    27                     55   \n",
       "\n",
       "   Light sleep percentage  Awakenings  Caffeine consumption  \\\n",
       "0                      12         0.0                   0.0   \n",
       "1                      53         3.0                   0.0   \n",
       "2                      10         1.0                   0.0   \n",
       "3                      52         3.0                  50.0   \n",
       "4                      18         3.0                   0.0   \n",
       "\n",
       "   Alcohol consumption Smoking status  Exercise frequency  \n",
       "0                  0.0            Yes                 3.0  \n",
       "1                  3.0            Yes                 3.0  \n",
       "2                  0.0             No                 3.0  \n",
       "3                  5.0            Yes                 1.0  \n",
       "4                  3.0             No                 3.0  "
      ]
     },
     "metadata": {},
     "output_type": "display_data"
    },
    {
     "data": {
      "text/markdown": [
       "O conjunto de dados, proveniente da plataforma Kaggle, contém informações sobre os padrões de sono de indivíduos,identificados por um **ID** único do indivíduo. Inclui ainda dados sobre **idade**, **gênero**, **horário de dormir e acordar**, **duração do sono**, **eficiência do sono**, **porcentagens de sono REM**, **profundo** e **leve**, **número de despertares**, **consumo de cafeína** e **álcool** antes de dormir, **status de fumante** e **frequência de exercícios**.\n",
       "\n",
       "---"
      ],
      "text/plain": [
       "<IPython.core.display.Markdown object>"
      ]
     },
     "metadata": {},
     "output_type": "display_data"
    }
   ],
   "source": [
    "# Apresentando o conjunto de dados\n",
    "df = pd.read_csv('../data/raw/data.csv')\n",
    "display(df.head())\n",
    "\n",
    "# Exibição da descrição do conjunto de dados\n",
    "display(Markdown(\n",
    "    \"O conjunto de dados, proveniente da plataforma Kaggle, contém informações sobre os padrões de sono de indivíduos,\" \n",
    "    \"identificados por um **ID** único do indivíduo. \" \n",
    "    \"Inclui ainda dados sobre **idade**, **gênero**, **horário de dormir e acordar**, \" \n",
    "    \"**duração do sono**, **eficiência do sono**, **porcentagens de sono REM**, **profundo** e **leve**, \"\n",
    "    \"**número de despertares**, **consumo de cafeína** e **álcool** antes de dormir, **status de fumante** \"\n",
    "    \"e **frequência de exercícios**.\\n\\n\"\n",
    "    \"---\"\n",
    "))"
   ]
  },
  {
   "cell_type": "markdown",
   "id": "01cf2617-5064-4ada-90a7-74f2c9c6eaf2",
   "metadata": {},
   "source": [
    "<div id='dicionario_dados'><h3>1.3. Dicionário de dados</h3></div> "
   ]
  },
  {
   "cell_type": "code",
   "execution_count": 30,
   "id": "e3817650-b4cb-427b-a87a-f45a125896b0",
   "metadata": {
    "tags": []
   },
   "outputs": [
    {
     "data": {
      "text/html": [
       "<table border=\"1\" class=\"dataframe\">\n",
       "  <thead>\n",
       "    <tr style=\"text-align: right;\">\n",
       "      <th>variavel</th>\n",
       "      <th>descricao</th>\n",
       "      <th>tipo</th>\n",
       "      <th>subtipo</th>\n",
       "    </tr>\n",
       "  </thead>\n",
       "  <tbody>\n",
       "    <tr>\n",
       "      <td>ID</td>\n",
       "      <td>Identificador único do indivíduo testado</td>\n",
       "      <td>quantitativa</td>\n",
       "      <td>discreta</td>\n",
       "    </tr>\n",
       "    <tr>\n",
       "      <td>Age</td>\n",
       "      <td>Idade do indivíduo testado, em anos</td>\n",
       "      <td>quantitativa</td>\n",
       "      <td>discreta</td>\n",
       "    </tr>\n",
       "    <tr>\n",
       "      <td>Gender</td>\n",
       "      <td>Gênero do indivíduo testado</td>\n",
       "      <td>qualitativa</td>\n",
       "      <td>nominal</td>\n",
       "    </tr>\n",
       "    <tr>\n",
       "      <td>Bedtime</td>\n",
       "      <td>O horário em que o indivíduo testado vai para a cama todas as noites</td>\n",
       "      <td>quantitativa</td>\n",
       "      <td>contínua</td>\n",
       "    </tr>\n",
       "    <tr>\n",
       "      <td>Wakeup time</td>\n",
       "      <td>O horário em que o indivíduo testado acorda todas as manhãs</td>\n",
       "      <td>quantitativa</td>\n",
       "      <td>contínua</td>\n",
       "    </tr>\n",
       "    <tr>\n",
       "      <td>Sleep duration</td>\n",
       "      <td>Quantidade total de tempo em que o indivíduo testado dormiu (em horas)</td>\n",
       "      <td>quantitativa</td>\n",
       "      <td>contínua</td>\n",
       "    </tr>\n",
       "    <tr>\n",
       "      <td>Sleep efficiency</td>\n",
       "      <td>Medida da proporção de tempo na cama gasto dormindo</td>\n",
       "      <td>quantitativa</td>\n",
       "      <td>contínua</td>\n",
       "    </tr>\n",
       "    <tr>\n",
       "      <td>REM sleep percentage</td>\n",
       "      <td>Percentual do tempo total gasto em sono REM</td>\n",
       "      <td>quantitativa</td>\n",
       "      <td>discreta</td>\n",
       "    </tr>\n",
       "    <tr>\n",
       "      <td>Deep sleep percentage</td>\n",
       "      <td>Percentual do tempo total gasto em sono profundo</td>\n",
       "      <td>quantitativa</td>\n",
       "      <td>discreta</td>\n",
       "    </tr>\n",
       "    <tr>\n",
       "      <td>Light sleep percentage</td>\n",
       "      <td>Percentual do tempo total gasto em sono leve</td>\n",
       "      <td>quantitativa</td>\n",
       "      <td>discreta</td>\n",
       "    </tr>\n",
       "    <tr>\n",
       "      <td>Awakenings</td>\n",
       "      <td>O número de vezes em que o indivíduo testado acorda durante a noite</td>\n",
       "      <td>quantitativa</td>\n",
       "      <td>discreta</td>\n",
       "    </tr>\n",
       "    <tr>\n",
       "      <td>Caffeine consumption</td>\n",
       "      <td>A quantidade de cafeína consumida nas 24 horas anteriores a hora de dormir (em mg)</td>\n",
       "      <td>quantitativa</td>\n",
       "      <td>discreta</td>\n",
       "    </tr>\n",
       "    <tr>\n",
       "      <td>Alcohol consumption</td>\n",
       "      <td>A quantidade de álcool consumido nas 24 horas anteriores a hora de dormir (em oz)</td>\n",
       "      <td>quantitativa</td>\n",
       "      <td>discreta</td>\n",
       "    </tr>\n",
       "    <tr>\n",
       "      <td>Smoking status</td>\n",
       "      <td>Se o indivíduo testado é fumante ou não fumante</td>\n",
       "      <td>qualitativa</td>\n",
       "      <td>nominal</td>\n",
       "    </tr>\n",
       "    <tr>\n",
       "      <td>Exercise frequency</td>\n",
       "      <td>O número de vezes por semana que o indivíduo testado fez exercícios</td>\n",
       "      <td>quantitativa</td>\n",
       "      <td>discreta</td>\n",
       "    </tr>\n",
       "  </tbody>\n",
       "</table>"
      ],
      "text/plain": [
       "<IPython.core.display.HTML object>"
      ]
     },
     "metadata": {},
     "output_type": "display_data"
    },
    {
     "data": {
      "text/markdown": [
       "---\n",
       "O dicionário de dados possui **15 variáveis**, sendo elas:\n",
       "* **9** quatitativas discretas\n",
       "* **4** quantitativas contínuas\n",
       "* **2** qualitativas nominais\n",
       "\n",
       "---"
      ],
      "text/plain": [
       "<IPython.core.display.Markdown object>"
      ]
     },
     "metadata": {},
     "output_type": "display_data"
    }
   ],
   "source": [
    "# Dicionário de dados\n",
    "df_dict = pd.read_csv('../data/external/dictionary.csv')\n",
    "display(HTML(df_dict.to_html(index=False)))\n",
    "display(Markdown(\n",
    "    \"---\\n\"\n",
    "    \"O dicionário de dados possui **15 variáveis**, sendo elas:\\n\" \n",
    "    \"* **9** quatitativas discretas\\n\"\n",
    "    \"* **4** quantitativas contínuas\\n\" \n",
    "    \"* **2** qualitativas nominais\"\n",
    "    \"\\n\\n\"\n",
    "    \"---\"\n",
    "))"
   ]
  },
  {
   "cell_type": "markdown",
   "id": "f9653cd2-c3aa-4a31-b04a-643093dee16d",
   "metadata": {
    "tags": []
   },
   "source": [
    "<div id='conjunto_dados'><h3>1.4. Conjunto de dados</h3></div> "
   ]
  },
  {
   "cell_type": "code",
   "execution_count": 31,
   "id": "f1b7e7a7-eef6-443c-a6d9-6f89b81e4c86",
   "metadata": {
    "tags": []
   },
   "outputs": [
    {
     "data": {
      "text/markdown": [
       "*Informações Gerais do Dataframe:* \n",
       "\n"
      ],
      "text/plain": [
       "<IPython.core.display.Markdown object>"
      ]
     },
     "metadata": {},
     "output_type": "display_data"
    },
    {
     "name": "stdout",
     "output_type": "stream",
     "text": [
      "<class 'pandas.core.frame.DataFrame'>\n",
      "RangeIndex: 452 entries, 0 to 451\n",
      "Data columns (total 15 columns):\n",
      " #   Column                  Non-Null Count  Dtype  \n",
      "---  ------                  --------------  -----  \n",
      " 0   ID                      452 non-null    int64  \n",
      " 1   Age                     452 non-null    int64  \n",
      " 2   Gender                  452 non-null    object \n",
      " 3   Bedtime                 452 non-null    object \n",
      " 4   Wakeup time             452 non-null    object \n",
      " 5   Sleep duration          452 non-null    float64\n",
      " 6   Sleep efficiency        452 non-null    float64\n",
      " 7   REM sleep percentage    452 non-null    int64  \n",
      " 8   Deep sleep percentage   452 non-null    int64  \n",
      " 9   Light sleep percentage  452 non-null    int64  \n",
      " 10  Awakenings              432 non-null    float64\n",
      " 11  Caffeine consumption    427 non-null    float64\n",
      " 12  Alcohol consumption     438 non-null    float64\n",
      " 13  Smoking status          452 non-null    object \n",
      " 14  Exercise frequency      446 non-null    float64\n",
      "dtypes: float64(6), int64(5), object(4)\n",
      "memory usage: 53.1+ KB\n",
      "\n",
      "\n"
     ]
    },
    {
     "data": {
      "text/markdown": [
       "*<center>Estatística Descritiva</center>* \n",
       "\n"
      ],
      "text/plain": [
       "<IPython.core.display.Markdown object>"
      ]
     },
     "metadata": {},
     "output_type": "display_data"
    },
    {
     "data": {
      "text/html": [
       "<div>\n",
       "<style scoped>\n",
       "    .dataframe tbody tr th:only-of-type {\n",
       "        vertical-align: middle;\n",
       "    }\n",
       "\n",
       "    .dataframe tbody tr th {\n",
       "        vertical-align: top;\n",
       "    }\n",
       "\n",
       "    .dataframe thead th {\n",
       "        text-align: right;\n",
       "    }\n",
       "</style>\n",
       "<table border=\"1\" class=\"dataframe\">\n",
       "  <thead>\n",
       "    <tr style=\"text-align: right;\">\n",
       "      <th></th>\n",
       "      <th>ID</th>\n",
       "      <th>Age</th>\n",
       "      <th>Gender</th>\n",
       "      <th>Bedtime</th>\n",
       "      <th>Wakeup time</th>\n",
       "      <th>Sleep duration</th>\n",
       "      <th>Sleep efficiency</th>\n",
       "      <th>REM sleep percentage</th>\n",
       "      <th>Deep sleep percentage</th>\n",
       "      <th>Light sleep percentage</th>\n",
       "      <th>Awakenings</th>\n",
       "      <th>Caffeine consumption</th>\n",
       "      <th>Alcohol consumption</th>\n",
       "      <th>Smoking status</th>\n",
       "      <th>Exercise frequency</th>\n",
       "    </tr>\n",
       "  </thead>\n",
       "  <tbody>\n",
       "    <tr>\n",
       "      <th>count</th>\n",
       "      <td>452.000000</td>\n",
       "      <td>452.000000</td>\n",
       "      <td>452</td>\n",
       "      <td>452</td>\n",
       "      <td>452</td>\n",
       "      <td>452.000000</td>\n",
       "      <td>452.000000</td>\n",
       "      <td>452.000000</td>\n",
       "      <td>452.000000</td>\n",
       "      <td>452.000000</td>\n",
       "      <td>432.000000</td>\n",
       "      <td>427.000000</td>\n",
       "      <td>438.000000</td>\n",
       "      <td>452</td>\n",
       "      <td>446.000000</td>\n",
       "    </tr>\n",
       "    <tr>\n",
       "      <th>unique</th>\n",
       "      <td>NaN</td>\n",
       "      <td>NaN</td>\n",
       "      <td>2</td>\n",
       "      <td>424</td>\n",
       "      <td>434</td>\n",
       "      <td>NaN</td>\n",
       "      <td>NaN</td>\n",
       "      <td>NaN</td>\n",
       "      <td>NaN</td>\n",
       "      <td>NaN</td>\n",
       "      <td>NaN</td>\n",
       "      <td>NaN</td>\n",
       "      <td>NaN</td>\n",
       "      <td>2</td>\n",
       "      <td>NaN</td>\n",
       "    </tr>\n",
       "    <tr>\n",
       "      <th>top</th>\n",
       "      <td>NaN</td>\n",
       "      <td>NaN</td>\n",
       "      <td>Male</td>\n",
       "      <td>2021-03-11 01:00:00</td>\n",
       "      <td>2021-11-25 06:00:00</td>\n",
       "      <td>NaN</td>\n",
       "      <td>NaN</td>\n",
       "      <td>NaN</td>\n",
       "      <td>NaN</td>\n",
       "      <td>NaN</td>\n",
       "      <td>NaN</td>\n",
       "      <td>NaN</td>\n",
       "      <td>NaN</td>\n",
       "      <td>No</td>\n",
       "      <td>NaN</td>\n",
       "    </tr>\n",
       "    <tr>\n",
       "      <th>freq</th>\n",
       "      <td>NaN</td>\n",
       "      <td>NaN</td>\n",
       "      <td>228</td>\n",
       "      <td>3</td>\n",
       "      <td>2</td>\n",
       "      <td>NaN</td>\n",
       "      <td>NaN</td>\n",
       "      <td>NaN</td>\n",
       "      <td>NaN</td>\n",
       "      <td>NaN</td>\n",
       "      <td>NaN</td>\n",
       "      <td>NaN</td>\n",
       "      <td>NaN</td>\n",
       "      <td>298</td>\n",
       "      <td>NaN</td>\n",
       "    </tr>\n",
       "    <tr>\n",
       "      <th>mean</th>\n",
       "      <td>226.500000</td>\n",
       "      <td>40.285398</td>\n",
       "      <td>NaN</td>\n",
       "      <td>NaN</td>\n",
       "      <td>NaN</td>\n",
       "      <td>7.465708</td>\n",
       "      <td>0.788916</td>\n",
       "      <td>22.615044</td>\n",
       "      <td>52.823009</td>\n",
       "      <td>24.561947</td>\n",
       "      <td>1.641204</td>\n",
       "      <td>23.653396</td>\n",
       "      <td>1.173516</td>\n",
       "      <td>NaN</td>\n",
       "      <td>1.791480</td>\n",
       "    </tr>\n",
       "    <tr>\n",
       "      <th>std</th>\n",
       "      <td>130.625419</td>\n",
       "      <td>13.172250</td>\n",
       "      <td>NaN</td>\n",
       "      <td>NaN</td>\n",
       "      <td>NaN</td>\n",
       "      <td>0.866625</td>\n",
       "      <td>0.135237</td>\n",
       "      <td>3.525963</td>\n",
       "      <td>15.654235</td>\n",
       "      <td>15.313665</td>\n",
       "      <td>1.356762</td>\n",
       "      <td>30.202785</td>\n",
       "      <td>1.621377</td>\n",
       "      <td>NaN</td>\n",
       "      <td>1.428134</td>\n",
       "    </tr>\n",
       "    <tr>\n",
       "      <th>min</th>\n",
       "      <td>1.000000</td>\n",
       "      <td>9.000000</td>\n",
       "      <td>NaN</td>\n",
       "      <td>NaN</td>\n",
       "      <td>NaN</td>\n",
       "      <td>5.000000</td>\n",
       "      <td>0.500000</td>\n",
       "      <td>15.000000</td>\n",
       "      <td>18.000000</td>\n",
       "      <td>7.000000</td>\n",
       "      <td>0.000000</td>\n",
       "      <td>0.000000</td>\n",
       "      <td>0.000000</td>\n",
       "      <td>NaN</td>\n",
       "      <td>0.000000</td>\n",
       "    </tr>\n",
       "    <tr>\n",
       "      <th>25%</th>\n",
       "      <td>113.750000</td>\n",
       "      <td>29.000000</td>\n",
       "      <td>NaN</td>\n",
       "      <td>NaN</td>\n",
       "      <td>NaN</td>\n",
       "      <td>7.000000</td>\n",
       "      <td>0.697500</td>\n",
       "      <td>20.000000</td>\n",
       "      <td>48.250000</td>\n",
       "      <td>15.000000</td>\n",
       "      <td>1.000000</td>\n",
       "      <td>0.000000</td>\n",
       "      <td>0.000000</td>\n",
       "      <td>NaN</td>\n",
       "      <td>0.000000</td>\n",
       "    </tr>\n",
       "    <tr>\n",
       "      <th>50%</th>\n",
       "      <td>226.500000</td>\n",
       "      <td>40.000000</td>\n",
       "      <td>NaN</td>\n",
       "      <td>NaN</td>\n",
       "      <td>NaN</td>\n",
       "      <td>7.500000</td>\n",
       "      <td>0.820000</td>\n",
       "      <td>22.000000</td>\n",
       "      <td>58.000000</td>\n",
       "      <td>18.000000</td>\n",
       "      <td>1.000000</td>\n",
       "      <td>25.000000</td>\n",
       "      <td>0.000000</td>\n",
       "      <td>NaN</td>\n",
       "      <td>2.000000</td>\n",
       "    </tr>\n",
       "    <tr>\n",
       "      <th>75%</th>\n",
       "      <td>339.250000</td>\n",
       "      <td>52.000000</td>\n",
       "      <td>NaN</td>\n",
       "      <td>NaN</td>\n",
       "      <td>NaN</td>\n",
       "      <td>8.000000</td>\n",
       "      <td>0.900000</td>\n",
       "      <td>25.000000</td>\n",
       "      <td>63.000000</td>\n",
       "      <td>32.500000</td>\n",
       "      <td>3.000000</td>\n",
       "      <td>50.000000</td>\n",
       "      <td>2.000000</td>\n",
       "      <td>NaN</td>\n",
       "      <td>3.000000</td>\n",
       "    </tr>\n",
       "    <tr>\n",
       "      <th>max</th>\n",
       "      <td>452.000000</td>\n",
       "      <td>69.000000</td>\n",
       "      <td>NaN</td>\n",
       "      <td>NaN</td>\n",
       "      <td>NaN</td>\n",
       "      <td>10.000000</td>\n",
       "      <td>0.990000</td>\n",
       "      <td>30.000000</td>\n",
       "      <td>75.000000</td>\n",
       "      <td>63.000000</td>\n",
       "      <td>4.000000</td>\n",
       "      <td>200.000000</td>\n",
       "      <td>5.000000</td>\n",
       "      <td>NaN</td>\n",
       "      <td>5.000000</td>\n",
       "    </tr>\n",
       "  </tbody>\n",
       "</table>\n",
       "</div>"
      ],
      "text/plain": [
       "                ID         Age Gender              Bedtime  \\\n",
       "count   452.000000  452.000000    452                  452   \n",
       "unique         NaN         NaN      2                  424   \n",
       "top            NaN         NaN   Male  2021-03-11 01:00:00   \n",
       "freq           NaN         NaN    228                    3   \n",
       "mean    226.500000   40.285398    NaN                  NaN   \n",
       "std     130.625419   13.172250    NaN                  NaN   \n",
       "min       1.000000    9.000000    NaN                  NaN   \n",
       "25%     113.750000   29.000000    NaN                  NaN   \n",
       "50%     226.500000   40.000000    NaN                  NaN   \n",
       "75%     339.250000   52.000000    NaN                  NaN   \n",
       "max     452.000000   69.000000    NaN                  NaN   \n",
       "\n",
       "                Wakeup time  Sleep duration  Sleep efficiency  \\\n",
       "count                   452      452.000000        452.000000   \n",
       "unique                  434             NaN               NaN   \n",
       "top     2021-11-25 06:00:00             NaN               NaN   \n",
       "freq                      2             NaN               NaN   \n",
       "mean                    NaN        7.465708          0.788916   \n",
       "std                     NaN        0.866625          0.135237   \n",
       "min                     NaN        5.000000          0.500000   \n",
       "25%                     NaN        7.000000          0.697500   \n",
       "50%                     NaN        7.500000          0.820000   \n",
       "75%                     NaN        8.000000          0.900000   \n",
       "max                     NaN       10.000000          0.990000   \n",
       "\n",
       "        REM sleep percentage  Deep sleep percentage  Light sleep percentage  \\\n",
       "count             452.000000             452.000000              452.000000   \n",
       "unique                   NaN                    NaN                     NaN   \n",
       "top                      NaN                    NaN                     NaN   \n",
       "freq                     NaN                    NaN                     NaN   \n",
       "mean               22.615044              52.823009               24.561947   \n",
       "std                 3.525963              15.654235               15.313665   \n",
       "min                15.000000              18.000000                7.000000   \n",
       "25%                20.000000              48.250000               15.000000   \n",
       "50%                22.000000              58.000000               18.000000   \n",
       "75%                25.000000              63.000000               32.500000   \n",
       "max                30.000000              75.000000               63.000000   \n",
       "\n",
       "        Awakenings  Caffeine consumption  Alcohol consumption Smoking status  \\\n",
       "count   432.000000            427.000000           438.000000            452   \n",
       "unique         NaN                   NaN                  NaN              2   \n",
       "top            NaN                   NaN                  NaN             No   \n",
       "freq           NaN                   NaN                  NaN            298   \n",
       "mean      1.641204             23.653396             1.173516            NaN   \n",
       "std       1.356762             30.202785             1.621377            NaN   \n",
       "min       0.000000              0.000000             0.000000            NaN   \n",
       "25%       1.000000              0.000000             0.000000            NaN   \n",
       "50%       1.000000             25.000000             0.000000            NaN   \n",
       "75%       3.000000             50.000000             2.000000            NaN   \n",
       "max       4.000000            200.000000             5.000000            NaN   \n",
       "\n",
       "        Exercise frequency  \n",
       "count           446.000000  \n",
       "unique                 NaN  \n",
       "top                    NaN  \n",
       "freq                   NaN  \n",
       "mean              1.791480  \n",
       "std               1.428134  \n",
       "min               0.000000  \n",
       "25%               0.000000  \n",
       "50%               2.000000  \n",
       "75%               3.000000  \n",
       "max               5.000000  "
      ]
     },
     "metadata": {},
     "output_type": "display_data"
    }
   ],
   "source": [
    "# Resumo das informações do conjunto de dados\n",
    "display(Markdown(\"*Informações Gerais do Dataframe:* \\n\\n\"))\n",
    "df.info()\n",
    "print(\"\\n\")\n",
    "\n",
    "# Visualizando a estatística descritiva do conjunto de dados\n",
    "display(Markdown(\"*<center>Estatística Descritiva</center>* \\n\\n\"))\n",
    "display(df.describe(include='all'))"
   ]
  },
  {
   "cell_type": "markdown",
   "id": "cd8d964b-9376-432d-80ff-ea138321a87b",
   "metadata": {},
   "source": [
    "* O conjunto de dados possui **452 linhas** e **15 colunas**.\n",
    "\n",
    "* Há 5 variáveis do tipo **integer**.\n",
    "\n",
    "* Há 6 variáveis do tipo **float**.\n",
    "\n",
    "* Há 4 variáveis classificadas como **object**, porém duas delas, `Gender` e `Smoking status`, são do tipo **string**, e as outras duas, `Bedtime` e `Wakeup time`, são do tipo **datetime**."
   ]
  },
  {
   "cell_type": "markdown",
   "id": "9c8ff195-331d-4d6d-a938-855c58c8895e",
   "metadata": {},
   "source": [
    "<div id='dados_faltantes'><h3>1.5. Dados faltantes ou nulos</h3></div> "
   ]
  },
  {
   "cell_type": "code",
   "execution_count": 32,
   "id": "8c1602c0-d011-409b-9de8-8099e277fc4e",
   "metadata": {
    "tags": []
   },
   "outputs": [
    {
     "data": {
      "text/markdown": [
       "*Dados Faltantes ou Nulos:* \n",
       "\n"
      ],
      "text/plain": [
       "<IPython.core.display.Markdown object>"
      ]
     },
     "metadata": {},
     "output_type": "display_data"
    },
    {
     "data": {
      "text/plain": [
       "Awakenings              20\n",
       "Caffeine consumption    25\n",
       "Alcohol consumption     14\n",
       "Exercise frequency       6\n",
       "dtype: int64"
      ]
     },
     "metadata": {},
     "output_type": "display_data"
    },
    {
     "data": {
      "text/markdown": [
       "---\n",
       "Algumas colunas apresentam valores ausentes, como:\n",
       "* `Caffeine consumption:` **25** valores ausentes\n",
       "* `Awakenings:` **20** valores ausentes\n",
       "* `Alcohol consumption:` **14** valores ausentes\n",
       "* `Exercise frequency:` **6** valores ausentes\n",
       "---"
      ],
      "text/plain": [
       "<IPython.core.display.Markdown object>"
      ]
     },
     "metadata": {},
     "output_type": "display_data"
    }
   ],
   "source": [
    "# Exibindo a soma de valores ausentes por coluna\n",
    "missing_values = df.isnull().sum()\n",
    "missing_values = missing_values[missing_values > 0]\n",
    "display(Markdown(\"*Dados Faltantes ou Nulos:* \\n\\n\"))\n",
    "display(missing_values)  \n",
    "\n",
    "display(Markdown(\n",
    "    \"---\\n\"    \n",
    "    \"Algumas colunas apresentam valores ausentes, como:\\n\"\n",
    "    \"* `Caffeine consumption:` **25** valores ausentes\\n\" \n",
    "    \"* `Awakenings:` **20** valores ausentes\\n\"\n",
    "    \"* `Alcohol consumption:` **14** valores ausentes\\n\"\n",
    "    \"* `Exercise frequency:` **6** valores ausentes\\n\"\n",
    "    \"---\"    \n",
    "))"
   ]
  },
  {
   "cell_type": "markdown",
   "id": "0da104a4-f3df-4f67-9186-a77370477787",
   "metadata": {},
   "source": [
    "<div id='outliers'><h3>1.6. Identificação e visualização de outliers</h3></div> "
   ]
  },
  {
   "cell_type": "code",
   "execution_count": 33,
   "id": "f3dcaed9-ba8a-463f-a144-f98cf6942e35",
   "metadata": {
    "tags": []
   },
   "outputs": [
    {
     "data": {
      "text/markdown": [
       "*Número de Outliers por Coluna:* \n"
      ],
      "text/plain": [
       "<IPython.core.display.Markdown object>"
      ]
     },
     "metadata": {},
     "output_type": "display_data"
    },
    {
     "data": {
      "text/plain": [
       "Deep sleep percentage     60\n",
       "Sleep duration            16\n",
       "Caffeine consumption       4\n",
       "Light sleep percentage     2\n",
       "dtype: int64"
      ]
     },
     "metadata": {},
     "output_type": "display_data"
    },
    {
     "name": "stdout",
     "output_type": "stream",
     "text": [
      "\n",
      "\n"
     ]
    },
    {
     "data": {
      "text/html": [
       "<div>\n",
       "<style scoped>\n",
       "    .dataframe tbody tr th:only-of-type {\n",
       "        vertical-align: middle;\n",
       "    }\n",
       "\n",
       "    .dataframe tbody tr th {\n",
       "        vertical-align: top;\n",
       "    }\n",
       "\n",
       "    .dataframe thead th {\n",
       "        text-align: right;\n",
       "    }\n",
       "</style>\n",
       "<table border=\"1\" class=\"dataframe\">\n",
       "  <thead>\n",
       "    <tr style=\"text-align: right;\">\n",
       "      <th></th>\n",
       "      <th>Deep sleep percentage</th>\n",
       "      <th>Sleep duration</th>\n",
       "      <th>Caffeine consumption</th>\n",
       "      <th>Light sleep percentage</th>\n",
       "    </tr>\n",
       "  </thead>\n",
       "  <tbody>\n",
       "    <tr>\n",
       "      <th>0</th>\n",
       "      <td>70</td>\n",
       "      <td>6.0</td>\n",
       "      <td>0.0</td>\n",
       "      <td>12</td>\n",
       "    </tr>\n",
       "    <tr>\n",
       "      <th>1</th>\n",
       "      <td>28</td>\n",
       "      <td>7.0</td>\n",
       "      <td>0.0</td>\n",
       "      <td>53</td>\n",
       "    </tr>\n",
       "    <tr>\n",
       "      <th>2</th>\n",
       "      <td>70</td>\n",
       "      <td>8.0</td>\n",
       "      <td>0.0</td>\n",
       "      <td>10</td>\n",
       "    </tr>\n",
       "    <tr>\n",
       "      <th>3</th>\n",
       "      <td>25</td>\n",
       "      <td>6.0</td>\n",
       "      <td>50.0</td>\n",
       "      <td>52</td>\n",
       "    </tr>\n",
       "    <tr>\n",
       "      <th>4</th>\n",
       "      <td>55</td>\n",
       "      <td>8.0</td>\n",
       "      <td>0.0</td>\n",
       "      <td>18</td>\n",
       "    </tr>\n",
       "  </tbody>\n",
       "</table>\n",
       "</div>"
      ],
      "text/plain": [
       "   Deep sleep percentage  Sleep duration  Caffeine consumption  \\\n",
       "0                     70             6.0                   0.0   \n",
       "1                     28             7.0                   0.0   \n",
       "2                     70             8.0                   0.0   \n",
       "3                     25             6.0                  50.0   \n",
       "4                     55             8.0                   0.0   \n",
       "\n",
       "   Light sleep percentage  \n",
       "0                      12  \n",
       "1                      53  \n",
       "2                      10  \n",
       "3                      52  \n",
       "4                      18  "
      ]
     },
     "metadata": {},
     "output_type": "display_data"
    },
    {
     "name": "stdout",
     "output_type": "stream",
     "text": [
      "\n",
      "\n"
     ]
    },
    {
     "data": {
      "image/png": "[encoded data removed]",
      "text/plain": [
       "<Figure size 1400x800 with 4 Axes>"
      ]
     },
     "metadata": {},
     "output_type": "display_data"
    }
   ],
   "source": [
    "# Identificação de outliers usando o método do Intervalo Interquantil (IQR)\n",
    "numeric_df = df.select_dtypes(include=[np.number])\n",
    "factor = 1.5\n",
    "\n",
    "def detect_outliers_iqr(data):\n",
    "    Q1 = data.quantile(0.25)\n",
    "    Q3 = data.quantile(0.75)\n",
    "    IQR = Q3 - Q1\n",
    "    lower_bound = Q1 - factor * IQR\n",
    "    upper_bound = Q3 + factor * IQR\n",
    "    return (data < lower_bound) | (data > upper_bound)\n",
    "\n",
    "# Aplicando a função a todas as colunas numéricas\n",
    "outliers = numeric_df.apply(detect_outliers_iqr)\n",
    "\n",
    "# Filtrando os dados para mostrar apenas os outliers\n",
    "outliers_summary = outliers.sum().sort_values(ascending=False)\n",
    "outliers_summary = outliers_summary[outliers_summary > 0]\n",
    "outliers_data = numeric_df.loc[:, outliers_summary.index]\n",
    "display(Markdown(\"*Número de Outliers por Coluna:* \\n\"))\n",
    "display(outliers_summary)\n",
    "print(\"\\n\")\n",
    "display(outliers_data.head())\n",
    "print(\"\\n\")\n",
    "\n",
    "# Visualização gráfica\n",
    "num_cols = outliers_data.shape[1]\n",
    "num_rows = (num_cols + 1) // 2  # Calcula o número de linhas necessário\n",
    "fig = plt.figure(figsize=(14, num_rows * 4))\n",
    "\n",
    "fig.suptitle('Distribuição de dados discrepantes', fontweight='bold', fontsize=16, y=1)\n",
    "\n",
    "for i, column in enumerate(outliers_data.columns, 1):\n",
    "    plt.subplot(num_rows, 2, i)\n",
    "    sns.histplot(numeric_df[column], bins=30, kde=True, color=colors[1], label='Dados')\n",
    "    sns.histplot(numeric_df[column][outliers[column]], bins=30, kde=True, color=colors[2], label='Outliers', alpha=0.7)\n",
    "    plt.title(f'Distribuição de {column}', fontsize=12, fontweight='bold')\n",
    "    plt.xlabel(column)\n",
    "    plt.ylabel('Frequência')\n",
    "    plt.legend()\n",
    "\n",
    "plt.tight_layout()\n",
    "plt.show()"
   ]
  },
  {
   "cell_type": "markdown",
   "id": "71343c79-f6de-45f1-b9cf-e48a649002dc",
   "metadata": {},
   "source": [
    "* Foram detectados outliers nas colunas numéricas do conjunto de dados usando o Método do Intervalo Interquantil (IQR). \n",
    "\n",
    "* O cálculo do IQR revelou a presença de **82** outliers distribuídos entre as variáveis `Sleep duration`, `Deep sleep percentage`, `Light sleep percentage` e `Caffeine consumption`.\n",
    "\n",
    "* A variável `Deep sleep percentage` possui o maior número de valores discrepantes, **60 ao todo**, seguido de `Sleep duration`, com **16**, `Caffeine consumption`, com **4**, e `Light sleep percentage`, com **2**.\n",
    "\n",
    "* Esses outliers foram visualizados graficamente para identificar padrões e impactos nos dados.\n",
    "\n",
    "---"
   ]
  },
  {
   "cell_type": "markdown",
   "id": "1d7046dd-db03-4eca-b5c7-049874d8d8a1",
   "metadata": {
    "tags": []
   },
   "source": [
    "<div id='padronizacao'><h2>2. Padronização de variáveis</h2></div>"
   ]
  },
  {
   "cell_type": "markdown",
   "id": "26e0f3ec-6f50-4d5f-a88d-38611b896032",
   "metadata": {
    "tags": []
   },
   "source": [
    "<div id='dados_categoricos'><h3>2.1. Conversão de variáveis categóricas</h3></div> "
   ]
  },
  {
   "cell_type": "code",
   "execution_count": 34,
   "id": "af79c0e9-f092-4e38-9ebf-949b2e2c219d",
   "metadata": {
    "tags": []
   },
   "outputs": [
    {
     "data": {
      "text/markdown": [
       "*Tipos dos dados após conversão:* \n",
       "\n"
      ],
      "text/plain": [
       "<IPython.core.display.Markdown object>"
      ]
     },
     "metadata": {},
     "output_type": "display_data"
    },
    {
     "name": "stdout",
     "output_type": "stream",
     "text": [
      "ID                           int64\n",
      "Age                          int64\n",
      "Gender                    category\n",
      "Bedtime                     object\n",
      "Wakeup time                 object\n",
      "Sleep duration             float64\n",
      "Sleep efficiency           float64\n",
      "REM sleep percentage         int64\n",
      "Deep sleep percentage        int64\n",
      "Light sleep percentage       int64\n",
      "Awakenings                 float64\n",
      "Caffeine consumption       float64\n",
      "Alcohol consumption        float64\n",
      "Smoking status            category\n",
      "Exercise frequency         float64\n",
      "dtype: object\n"
     ]
    }
   ],
   "source": [
    "# Conversão De Variaveis Categóricas\n",
    "df['Gender'] = df['Gender'].astype('category')\n",
    "df['Smoking status'] = df['Smoking status'].astype('category')\n",
    "\n",
    "display(Markdown(\"*Tipos dos dados após conversão:* \\n\\n\"))\n",
    "print(df.dtypes)"
   ]
  },
  {
   "cell_type": "markdown",
   "id": "c30f6633-b28f-4cfa-b61e-d61ec0f53de0",
   "metadata": {},
   "source": [
    "* Conversão das colunas `Gender` e `Smoking status` do conjunto de dados do tipo de dado `object` para o tipo `category`, sendo este mais eficiente para variáveis categóricas com um número limitado de valores distintos. \n",
    "\n",
    "* Após a conversão, são apresentados os tipos de dado das colunas do conjunto de dados.\n",
    "\n",
    "---"
   ]
  },
  {
   "cell_type": "markdown",
   "id": "04ba0967-8807-42f3-a918-22372c23a9f4",
   "metadata": {
    "tags": []
   },
   "source": [
    "<div id='dados_temporais'><h3>2.2. Conversão e separação de variáveis temporais</h3></div> "
   ]
  },
  {
   "cell_type": "code",
   "execution_count": 35,
   "id": "b3cf7b74-6435-4fe4-abf3-c2c21df14597",
   "metadata": {
    "tags": []
   },
   "outputs": [
    {
     "data": {
      "text/html": [
       "<div>\n",
       "<style scoped>\n",
       "    .dataframe tbody tr th:only-of-type {\n",
       "        vertical-align: middle;\n",
       "    }\n",
       "\n",
       "    .dataframe tbody tr th {\n",
       "        vertical-align: top;\n",
       "    }\n",
       "\n",
       "    .dataframe thead th {\n",
       "        text-align: right;\n",
       "    }\n",
       "</style>\n",
       "<table border=\"1\" class=\"dataframe\">\n",
       "  <thead>\n",
       "    <tr style=\"text-align: right;\">\n",
       "      <th></th>\n",
       "      <th>ID</th>\n",
       "      <th>Age</th>\n",
       "      <th>Gender</th>\n",
       "      <th>Sleep duration</th>\n",
       "      <th>Sleep efficiency</th>\n",
       "      <th>REM sleep percentage</th>\n",
       "      <th>Deep sleep percentage</th>\n",
       "      <th>Light sleep percentage</th>\n",
       "      <th>Awakenings</th>\n",
       "      <th>Caffeine consumption</th>\n",
       "      <th>Alcohol consumption</th>\n",
       "      <th>Smoking status</th>\n",
       "      <th>Exercise frequency</th>\n",
       "      <th>bedtime_hour_sin</th>\n",
       "      <th>bedtime_hour_cos</th>\n",
       "      <th>wakeup_hour_sin</th>\n",
       "      <th>wakeup_hour_cos</th>\n",
       "    </tr>\n",
       "  </thead>\n",
       "  <tbody>\n",
       "    <tr>\n",
       "      <th>0</th>\n",
       "      <td>1</td>\n",
       "      <td>65</td>\n",
       "      <td>Female</td>\n",
       "      <td>6.0</td>\n",
       "      <td>0.88</td>\n",
       "      <td>18</td>\n",
       "      <td>70</td>\n",
       "      <td>12</td>\n",
       "      <td>0.0</td>\n",
       "      <td>0.0</td>\n",
       "      <td>0.0</td>\n",
       "      <td>Yes</td>\n",
       "      <td>3.0</td>\n",
       "      <td>0.258819</td>\n",
       "      <td>0.965926</td>\n",
       "      <td>0.965926</td>\n",
       "      <td>-0.258819</td>\n",
       "    </tr>\n",
       "    <tr>\n",
       "      <th>1</th>\n",
       "      <td>2</td>\n",
       "      <td>69</td>\n",
       "      <td>Male</td>\n",
       "      <td>7.0</td>\n",
       "      <td>0.66</td>\n",
       "      <td>19</td>\n",
       "      <td>28</td>\n",
       "      <td>53</td>\n",
       "      <td>3.0</td>\n",
       "      <td>0.0</td>\n",
       "      <td>3.0</td>\n",
       "      <td>Yes</td>\n",
       "      <td>3.0</td>\n",
       "      <td>0.500000</td>\n",
       "      <td>0.866025</td>\n",
       "      <td>0.707107</td>\n",
       "      <td>-0.707107</td>\n",
       "    </tr>\n",
       "    <tr>\n",
       "      <th>2</th>\n",
       "      <td>3</td>\n",
       "      <td>40</td>\n",
       "      <td>Female</td>\n",
       "      <td>8.0</td>\n",
       "      <td>0.89</td>\n",
       "      <td>20</td>\n",
       "      <td>70</td>\n",
       "      <td>10</td>\n",
       "      <td>1.0</td>\n",
       "      <td>0.0</td>\n",
       "      <td>0.0</td>\n",
       "      <td>No</td>\n",
       "      <td>3.0</td>\n",
       "      <td>-0.707107</td>\n",
       "      <td>0.707107</td>\n",
       "      <td>0.965926</td>\n",
       "      <td>0.258819</td>\n",
       "    </tr>\n",
       "    <tr>\n",
       "      <th>3</th>\n",
       "      <td>4</td>\n",
       "      <td>40</td>\n",
       "      <td>Female</td>\n",
       "      <td>6.0</td>\n",
       "      <td>0.51</td>\n",
       "      <td>23</td>\n",
       "      <td>25</td>\n",
       "      <td>52</td>\n",
       "      <td>3.0</td>\n",
       "      <td>50.0</td>\n",
       "      <td>5.0</td>\n",
       "      <td>Yes</td>\n",
       "      <td>1.0</td>\n",
       "      <td>0.500000</td>\n",
       "      <td>0.866025</td>\n",
       "      <td>0.866025</td>\n",
       "      <td>-0.500000</td>\n",
       "    </tr>\n",
       "    <tr>\n",
       "      <th>4</th>\n",
       "      <td>5</td>\n",
       "      <td>57</td>\n",
       "      <td>Male</td>\n",
       "      <td>8.0</td>\n",
       "      <td>0.76</td>\n",
       "      <td>27</td>\n",
       "      <td>55</td>\n",
       "      <td>18</td>\n",
       "      <td>3.0</td>\n",
       "      <td>0.0</td>\n",
       "      <td>3.0</td>\n",
       "      <td>No</td>\n",
       "      <td>3.0</td>\n",
       "      <td>0.258819</td>\n",
       "      <td>0.965926</td>\n",
       "      <td>0.707107</td>\n",
       "      <td>-0.707107</td>\n",
       "    </tr>\n",
       "  </tbody>\n",
       "</table>\n",
       "</div>"
      ],
      "text/plain": [
       "   ID  Age  Gender  Sleep duration  Sleep efficiency  REM sleep percentage  \\\n",
       "0   1   65  Female             6.0              0.88                    18   \n",
       "1   2   69    Male             7.0              0.66                    19   \n",
       "2   3   40  Female             8.0              0.89                    20   \n",
       "3   4   40  Female             6.0              0.51                    23   \n",
       "4   5   57    Male             8.0              0.76                    27   \n",
       "\n",
       "   Deep sleep percentage  Light sleep percentage  Awakenings  \\\n",
       "0                     70                      12         0.0   \n",
       "1                     28                      53         3.0   \n",
       "2                     70                      10         1.0   \n",
       "3                     25                      52         3.0   \n",
       "4                     55                      18         3.0   \n",
       "\n",
       "   Caffeine consumption  Alcohol consumption Smoking status  \\\n",
       "0                   0.0                  0.0            Yes   \n",
       "1                   0.0                  3.0            Yes   \n",
       "2                   0.0                  0.0             No   \n",
       "3                  50.0                  5.0            Yes   \n",
       "4                   0.0                  3.0             No   \n",
       "\n",
       "   Exercise frequency  bedtime_hour_sin  bedtime_hour_cos  wakeup_hour_sin  \\\n",
       "0                 3.0          0.258819          0.965926         0.965926   \n",
       "1                 3.0          0.500000          0.866025         0.707107   \n",
       "2                 3.0         -0.707107          0.707107         0.965926   \n",
       "3                 1.0          0.500000          0.866025         0.866025   \n",
       "4                 3.0          0.258819          0.965926         0.707107   \n",
       "\n",
       "   wakeup_hour_cos  \n",
       "0        -0.258819  \n",
       "1        -0.707107  \n",
       "2         0.258819  \n",
       "3        -0.500000  \n",
       "4        -0.707107  "
      ]
     },
     "metadata": {},
     "output_type": "display_data"
    }
   ],
   "source": [
    "# Convertendo as colunas para datetime\n",
    "df['Bedtime'] = pd.to_datetime(df['Bedtime'], format='%Y-%m-%d %H:%M:%S')\n",
    "df['Wakeup time']= pd.to_datetime(df['Wakeup time'], format='%Y-%m-%d %H:%M:%S')\n",
    "\n",
    "# Extraindo apenas a hora\n",
    "df['bedtime_hour'] = df['Bedtime'].dt.hour\n",
    "df['wakeup_hour']= df['Wakeup time'].dt.hour\n",
    "\n",
    "# Aplicando a conversão cíclica\n",
    "df['bedtime_hour_sin'] = np.sin(df['bedtime_hour'] * (2. * np.pi / 24))\n",
    "df['bedtime_hour_cos'] = np.cos(df['bedtime_hour'] * (2. * np.pi / 24))\n",
    "\n",
    "df['wakeup_hour_sin'] = np.sin(df['wakeup_hour'] * (2. * np.pi / 24))\n",
    "df['wakeup_hour_cos'] = np.cos(df['wakeup_hour'] * (2. * np.pi / 24))\n",
    "\n",
    "# Removendo as colunas originais de 'Bedtime' e 'Wakeup time', e também as colunas 'bedtime_hour' e 'wakeup_hour'\n",
    "df = df.drop(columns=['Bedtime', 'Wakeup time', 'bedtime_hour', 'wakeup_hour'])\n",
    "\n",
    "display(df.head())"
   ]
  },
  {
   "cell_type": "markdown",
   "id": "ebe8995e-0509-4b14-b039-24bd6ff273b8",
   "metadata": {},
   "source": [
    "* Conversão das colunas `Bedtime` e `Wakeup time` para o tipo **datetime**, extraindo somente as colunas de hora, tendo em vista que as datas se referem somente ao período do estudo de eficiência do sono, portanto, não sendo relevante para o modelo.  \n",
    "\n",
    "* Extração das horas, gerando as colunas `bedtime_hour` e `wakeup_hour`.\n",
    "\n",
    "* Conversão cíclica das variáveis `bedtime_hour` e `wakeup_hour` usando as funções seno e cosseno para mapear a natureza cíclica da hora.\n",
    "\n",
    "* Por fim, as colunas originais `Bedtime` e `Wakeup time`, assim como, as colunas criadas `bedtime_hour` e `wakeup_hour` foram removidas do dataframe.\n",
    "\n",
    "---"
   ]
  },
  {
   "cell_type": "markdown",
   "id": "33810fcf-2065-4bf8-bebe-42ffd695a9cf",
   "metadata": {},
   "source": [
    "<div id='conversa_unidades'><h3>2.3. Conversão de unidades: onça (oz) para grama (g)</h3></div> "
   ]
  },
  {
   "cell_type": "code",
   "execution_count": 36,
   "id": "f6aea492-7c8f-4df5-b447-5c8caeae714c",
   "metadata": {
    "tags": []
   },
   "outputs": [
    {
     "data": {
      "text/html": [
       "<div>\n",
       "<style scoped>\n",
       "    .dataframe tbody tr th:only-of-type {\n",
       "        vertical-align: middle;\n",
       "    }\n",
       "\n",
       "    .dataframe tbody tr th {\n",
       "        vertical-align: top;\n",
       "    }\n",
       "\n",
       "    .dataframe thead th {\n",
       "        text-align: right;\n",
       "    }\n",
       "</style>\n",
       "<table border=\"1\" class=\"dataframe\">\n",
       "  <thead>\n",
       "    <tr style=\"text-align: right;\">\n",
       "      <th></th>\n",
       "      <th>ID</th>\n",
       "      <th>Age</th>\n",
       "      <th>Gender</th>\n",
       "      <th>Sleep duration</th>\n",
       "      <th>Sleep efficiency</th>\n",
       "      <th>REM sleep percentage</th>\n",
       "      <th>Deep sleep percentage</th>\n",
       "      <th>Light sleep percentage</th>\n",
       "      <th>Awakenings</th>\n",
       "      <th>Caffeine consumption</th>\n",
       "      <th>Smoking status</th>\n",
       "      <th>Exercise frequency</th>\n",
       "      <th>bedtime_hour_sin</th>\n",
       "      <th>bedtime_hour_cos</th>\n",
       "      <th>wakeup_hour_sin</th>\n",
       "      <th>wakeup_hour_cos</th>\n",
       "      <th>alcohol_consumption_g</th>\n",
       "    </tr>\n",
       "  </thead>\n",
       "  <tbody>\n",
       "    <tr>\n",
       "      <th>0</th>\n",
       "      <td>1</td>\n",
       "      <td>65</td>\n",
       "      <td>Female</td>\n",
       "      <td>6.0</td>\n",
       "      <td>0.88</td>\n",
       "      <td>18</td>\n",
       "      <td>70</td>\n",
       "      <td>12</td>\n",
       "      <td>0.0</td>\n",
       "      <td>0.0</td>\n",
       "      <td>Yes</td>\n",
       "      <td>3.0</td>\n",
       "      <td>0.258819</td>\n",
       "      <td>0.965926</td>\n",
       "      <td>0.965926</td>\n",
       "      <td>-0.258819</td>\n",
       "      <td>0.00</td>\n",
       "    </tr>\n",
       "    <tr>\n",
       "      <th>1</th>\n",
       "      <td>2</td>\n",
       "      <td>69</td>\n",
       "      <td>Male</td>\n",
       "      <td>7.0</td>\n",
       "      <td>0.66</td>\n",
       "      <td>19</td>\n",
       "      <td>28</td>\n",
       "      <td>53</td>\n",
       "      <td>3.0</td>\n",
       "      <td>0.0</td>\n",
       "      <td>Yes</td>\n",
       "      <td>3.0</td>\n",
       "      <td>0.500000</td>\n",
       "      <td>0.866025</td>\n",
       "      <td>0.707107</td>\n",
       "      <td>-0.707107</td>\n",
       "      <td>85.05</td>\n",
       "    </tr>\n",
       "    <tr>\n",
       "      <th>2</th>\n",
       "      <td>3</td>\n",
       "      <td>40</td>\n",
       "      <td>Female</td>\n",
       "      <td>8.0</td>\n",
       "      <td>0.89</td>\n",
       "      <td>20</td>\n",
       "      <td>70</td>\n",
       "      <td>10</td>\n",
       "      <td>1.0</td>\n",
       "      <td>0.0</td>\n",
       "      <td>No</td>\n",
       "      <td>3.0</td>\n",
       "      <td>-0.707107</td>\n",
       "      <td>0.707107</td>\n",
       "      <td>0.965926</td>\n",
       "      <td>0.258819</td>\n",
       "      <td>0.00</td>\n",
       "    </tr>\n",
       "    <tr>\n",
       "      <th>3</th>\n",
       "      <td>4</td>\n",
       "      <td>40</td>\n",
       "      <td>Female</td>\n",
       "      <td>6.0</td>\n",
       "      <td>0.51</td>\n",
       "      <td>23</td>\n",
       "      <td>25</td>\n",
       "      <td>52</td>\n",
       "      <td>3.0</td>\n",
       "      <td>50.0</td>\n",
       "      <td>Yes</td>\n",
       "      <td>1.0</td>\n",
       "      <td>0.500000</td>\n",
       "      <td>0.866025</td>\n",
       "      <td>0.866025</td>\n",
       "      <td>-0.500000</td>\n",
       "      <td>141.75</td>\n",
       "    </tr>\n",
       "    <tr>\n",
       "      <th>4</th>\n",
       "      <td>5</td>\n",
       "      <td>57</td>\n",
       "      <td>Male</td>\n",
       "      <td>8.0</td>\n",
       "      <td>0.76</td>\n",
       "      <td>27</td>\n",
       "      <td>55</td>\n",
       "      <td>18</td>\n",
       "      <td>3.0</td>\n",
       "      <td>0.0</td>\n",
       "      <td>No</td>\n",
       "      <td>3.0</td>\n",
       "      <td>0.258819</td>\n",
       "      <td>0.965926</td>\n",
       "      <td>0.707107</td>\n",
       "      <td>-0.707107</td>\n",
       "      <td>85.05</td>\n",
       "    </tr>\n",
       "  </tbody>\n",
       "</table>\n",
       "</div>"
      ],
      "text/plain": [
       "   ID  Age  Gender  Sleep duration  Sleep efficiency  REM sleep percentage  \\\n",
       "0   1   65  Female             6.0              0.88                    18   \n",
       "1   2   69    Male             7.0              0.66                    19   \n",
       "2   3   40  Female             8.0              0.89                    20   \n",
       "3   4   40  Female             6.0              0.51                    23   \n",
       "4   5   57    Male             8.0              0.76                    27   \n",
       "\n",
       "   Deep sleep percentage  Light sleep percentage  Awakenings  \\\n",
       "0                     70                      12         0.0   \n",
       "1                     28                      53         3.0   \n",
       "2                     70                      10         1.0   \n",
       "3                     25                      52         3.0   \n",
       "4                     55                      18         3.0   \n",
       "\n",
       "   Caffeine consumption Smoking status  Exercise frequency  bedtime_hour_sin  \\\n",
       "0                   0.0            Yes                 3.0          0.258819   \n",
       "1                   0.0            Yes                 3.0          0.500000   \n",
       "2                   0.0             No                 3.0         -0.707107   \n",
       "3                  50.0            Yes                 1.0          0.500000   \n",
       "4                   0.0             No                 3.0          0.258819   \n",
       "\n",
       "   bedtime_hour_cos  wakeup_hour_sin  wakeup_hour_cos  alcohol_consumption_g  \n",
       "0          0.965926         0.965926        -0.258819                   0.00  \n",
       "1          0.866025         0.707107        -0.707107                  85.05  \n",
       "2          0.707107         0.965926         0.258819                   0.00  \n",
       "3          0.866025         0.866025        -0.500000                 141.75  \n",
       "4          0.965926         0.707107        -0.707107                  85.05  "
      ]
     },
     "metadata": {},
     "output_type": "display_data"
    }
   ],
   "source": [
    "# Conversão De Unidades\n",
    "def oz_to_g(oz):\n",
    "    return oz * 28.3495\n",
    "\n",
    "# Aplicando a conversão na coluna 'Alcohol consumption'\n",
    "df['alcohol_consumption_g'] = df['Alcohol consumption'].apply(oz_to_g).round(2)\n",
    "df = df.drop(columns=['Alcohol consumption'])\n",
    "\n",
    "display(df.head())"
   ]
  },
  {
   "cell_type": "markdown",
   "id": "f81c430e-9eab-4c17-87e8-50e66f88b046",
   "metadata": {},
   "source": [
    "* Conversão da unidade onça (oz) para grama (g) para padronização e melhor precisão das unidades de medida. A conversão foi aplicada na coluna `Alcohol consumption` e o resultado armazenado em uma nova coluna: `alcohol_consumption_g`. \n",
    "\n",
    "* Em seguida, a coluna original `Alcohol consumption` foi removida.\n",
    "\n",
    "---"
   ]
  },
  {
   "cell_type": "markdown",
   "id": "3b4b8aa3-f865-4f0e-b75d-26d31cfc4086",
   "metadata": {},
   "source": [
    "<div id='excluir_colunas'><h3>2.4. Excluindo colunas desnecessárias</h3></div> "
   ]
  },
  {
   "cell_type": "code",
   "execution_count": 37,
   "id": "4b373817-415e-48b2-b4ee-2cca6cc096c8",
   "metadata": {
    "tags": []
   },
   "outputs": [],
   "source": [
    "# Exclusão da coluna 'ID' do conjunto de dados\n",
    "df = df.drop(columns=['ID'])\n",
    "\n",
    "# Exclusão das colunas 'ID', 'Bedtime' e 'Wakeup time' do dicionário de dados\n",
    "variables_to_exclude = ['ID', 'Bedtime', 'Wakeup time']\n",
    "df_dict = df_dict[~df_dict['variavel'].isin(variables_to_exclude)]"
   ]
  },
  {
   "cell_type": "markdown",
   "id": "d39014fb-ce97-48a5-8eb1-84b88e2475b7",
   "metadata": {},
   "source": [
    "* Excluída a coluna `ID` do conjunto de dados. \n",
    "\n",
    "* Excluídas as colunas `ID`, `Bedtime` e `Wakeup time` do dicionário de dados.\n",
    "\n",
    "* Tais colunas foram excluídas, tendo em vista que não serem determinantes para o modelo.\n",
    "\n",
    "\n",
    "---"
   ]
  },
  {
   "cell_type": "markdown",
   "id": "d9805ebe-02bb-4411-904d-a563abd86b43",
   "metadata": {
    "tags": []
   },
   "source": [
    "<div id='renomear_colunas'><h3>2.5. Renomeando colunas</h3></div> "
   ]
  },
  {
   "cell_type": "code",
   "execution_count": 38,
   "id": "b7cf9ff5-e579-4e90-81eb-3bfd191c6eb1",
   "metadata": {
    "tags": []
   },
   "outputs": [
    {
     "data": {
      "text/html": [
       "<div>\n",
       "<style scoped>\n",
       "    .dataframe tbody tr th:only-of-type {\n",
       "        vertical-align: middle;\n",
       "    }\n",
       "\n",
       "    .dataframe tbody tr th {\n",
       "        vertical-align: top;\n",
       "    }\n",
       "\n",
       "    .dataframe thead th {\n",
       "        text-align: right;\n",
       "    }\n",
       "</style>\n",
       "<table border=\"1\" class=\"dataframe\">\n",
       "  <thead>\n",
       "    <tr style=\"text-align: right;\">\n",
       "      <th></th>\n",
       "      <th>age</th>\n",
       "      <th>gender</th>\n",
       "      <th>sleep_duration</th>\n",
       "      <th>sleep_efficiency</th>\n",
       "      <th>rem_sleep_percentage</th>\n",
       "      <th>deep_sleep_percentage</th>\n",
       "      <th>light_sleep_percentage</th>\n",
       "      <th>awakenings</th>\n",
       "      <th>caffeine_consumption_mg</th>\n",
       "      <th>smoking_status</th>\n",
       "      <th>exercise_frequency</th>\n",
       "      <th>bedtime_hour_sin</th>\n",
       "      <th>bedtime_hour_cos</th>\n",
       "      <th>wakeup_hour_sin</th>\n",
       "      <th>wakeup_hour_cos</th>\n",
       "      <th>alcohol_consumption_g</th>\n",
       "    </tr>\n",
       "  </thead>\n",
       "  <tbody>\n",
       "    <tr>\n",
       "      <th>0</th>\n",
       "      <td>65</td>\n",
       "      <td>Female</td>\n",
       "      <td>6.0</td>\n",
       "      <td>0.88</td>\n",
       "      <td>18</td>\n",
       "      <td>70</td>\n",
       "      <td>12</td>\n",
       "      <td>0.0</td>\n",
       "      <td>0.0</td>\n",
       "      <td>Yes</td>\n",
       "      <td>3.0</td>\n",
       "      <td>0.258819</td>\n",
       "      <td>0.965926</td>\n",
       "      <td>0.965926</td>\n",
       "      <td>-0.258819</td>\n",
       "      <td>0.00</td>\n",
       "    </tr>\n",
       "    <tr>\n",
       "      <th>1</th>\n",
       "      <td>69</td>\n",
       "      <td>Male</td>\n",
       "      <td>7.0</td>\n",
       "      <td>0.66</td>\n",
       "      <td>19</td>\n",
       "      <td>28</td>\n",
       "      <td>53</td>\n",
       "      <td>3.0</td>\n",
       "      <td>0.0</td>\n",
       "      <td>Yes</td>\n",
       "      <td>3.0</td>\n",
       "      <td>0.500000</td>\n",
       "      <td>0.866025</td>\n",
       "      <td>0.707107</td>\n",
       "      <td>-0.707107</td>\n",
       "      <td>85.05</td>\n",
       "    </tr>\n",
       "    <tr>\n",
       "      <th>2</th>\n",
       "      <td>40</td>\n",
       "      <td>Female</td>\n",
       "      <td>8.0</td>\n",
       "      <td>0.89</td>\n",
       "      <td>20</td>\n",
       "      <td>70</td>\n",
       "      <td>10</td>\n",
       "      <td>1.0</td>\n",
       "      <td>0.0</td>\n",
       "      <td>No</td>\n",
       "      <td>3.0</td>\n",
       "      <td>-0.707107</td>\n",
       "      <td>0.707107</td>\n",
       "      <td>0.965926</td>\n",
       "      <td>0.258819</td>\n",
       "      <td>0.00</td>\n",
       "    </tr>\n",
       "    <tr>\n",
       "      <th>3</th>\n",
       "      <td>40</td>\n",
       "      <td>Female</td>\n",
       "      <td>6.0</td>\n",
       "      <td>0.51</td>\n",
       "      <td>23</td>\n",
       "      <td>25</td>\n",
       "      <td>52</td>\n",
       "      <td>3.0</td>\n",
       "      <td>50.0</td>\n",
       "      <td>Yes</td>\n",
       "      <td>1.0</td>\n",
       "      <td>0.500000</td>\n",
       "      <td>0.866025</td>\n",
       "      <td>0.866025</td>\n",
       "      <td>-0.500000</td>\n",
       "      <td>141.75</td>\n",
       "    </tr>\n",
       "    <tr>\n",
       "      <th>4</th>\n",
       "      <td>57</td>\n",
       "      <td>Male</td>\n",
       "      <td>8.0</td>\n",
       "      <td>0.76</td>\n",
       "      <td>27</td>\n",
       "      <td>55</td>\n",
       "      <td>18</td>\n",
       "      <td>3.0</td>\n",
       "      <td>0.0</td>\n",
       "      <td>No</td>\n",
       "      <td>3.0</td>\n",
       "      <td>0.258819</td>\n",
       "      <td>0.965926</td>\n",
       "      <td>0.707107</td>\n",
       "      <td>-0.707107</td>\n",
       "      <td>85.05</td>\n",
       "    </tr>\n",
       "  </tbody>\n",
       "</table>\n",
       "</div>"
      ],
      "text/plain": [
       "   age  gender  sleep_duration  sleep_efficiency  rem_sleep_percentage  \\\n",
       "0   65  Female             6.0              0.88                    18   \n",
       "1   69    Male             7.0              0.66                    19   \n",
       "2   40  Female             8.0              0.89                    20   \n",
       "3   40  Female             6.0              0.51                    23   \n",
       "4   57    Male             8.0              0.76                    27   \n",
       "\n",
       "   deep_sleep_percentage  light_sleep_percentage  awakenings  \\\n",
       "0                     70                      12         0.0   \n",
       "1                     28                      53         3.0   \n",
       "2                     70                      10         1.0   \n",
       "3                     25                      52         3.0   \n",
       "4                     55                      18         3.0   \n",
       "\n",
       "   caffeine_consumption_mg smoking_status  exercise_frequency  \\\n",
       "0                      0.0            Yes                 3.0   \n",
       "1                      0.0            Yes                 3.0   \n",
       "2                      0.0             No                 3.0   \n",
       "3                     50.0            Yes                 1.0   \n",
       "4                      0.0             No                 3.0   \n",
       "\n",
       "   bedtime_hour_sin  bedtime_hour_cos  wakeup_hour_sin  wakeup_hour_cos  \\\n",
       "0          0.258819          0.965926         0.965926        -0.258819   \n",
       "1          0.500000          0.866025         0.707107        -0.707107   \n",
       "2         -0.707107          0.707107         0.965926         0.258819   \n",
       "3          0.500000          0.866025         0.866025        -0.500000   \n",
       "4          0.258819          0.965926         0.707107        -0.707107   \n",
       "\n",
       "   alcohol_consumption_g  \n",
       "0                   0.00  \n",
       "1                  85.05  \n",
       "2                   0.00  \n",
       "3                 141.75  \n",
       "4                  85.05  "
      ]
     },
     "metadata": {},
     "output_type": "display_data"
    }
   ],
   "source": [
    "# Renomeando a coluna Caffeine consumption para incluir a unidade de medida em mg\n",
    "df.rename(columns={\n",
    "   'Caffeine consumption': 'caffeine_consumption_mg', \n",
    "}, inplace=True)\n",
    "\n",
    "# Renomeando todas as colunas no padrão snake_case\n",
    "df.columns = [col.replace(' ', '_').lower() for col in df.columns]\n",
    "\n",
    "display(df.head())"
   ]
  },
  {
   "cell_type": "markdown",
   "id": "e7edb4c9-6018-4833-9b4d-1228aee77346",
   "metadata": {},
   "source": [
    "* Formatação das variáveis com espaços ou letras maiúsculas para o padrão **snake_case** do Python, caracterizado pelo uso de letras minúsculas e underline, a fim de padronizar o nome das variáveis.\n",
    "\n",
    "---"
   ]
  },
  {
   "cell_type": "markdown",
   "id": "18f1fc5c-a1ff-4f0d-84f5-65bf876be292",
   "metadata": {
    "tags": []
   },
   "source": [
    "<div id='dicionario_atualizado'><h3>2.6. Atualização do dicionário de dados</h3></div> "
   ]
  },
  {
   "cell_type": "markdown",
   "id": "7aa78694-c58c-45a6-a6d9-4fb0419bcd26",
   "metadata": {},
   "source": [
    "* Por fim, foram atualizados os nomes das variáveis presentes no dicionário, assim como, inseridas novas colunas referentes aos dados convertidos das colunas `Bedtime` e `Wakeup time`."
   ]
  },
  {
   "cell_type": "code",
   "execution_count": 39,
   "id": "ec9e82b6-6d17-44c0-afdc-87c5215b2f26",
   "metadata": {
    "tags": []
   },
   "outputs": [
    {
     "data": {
      "text/html": [
       "<table border=\"1\" class=\"dataframe\">\n",
       "  <thead>\n",
       "    <tr style=\"text-align: right;\">\n",
       "      <th>variavel</th>\n",
       "      <th>descricao</th>\n",
       "      <th>tipo</th>\n",
       "      <th>subtipo</th>\n",
       "    </tr>\n",
       "  </thead>\n",
       "  <tbody>\n",
       "    <tr>\n",
       "      <td>age</td>\n",
       "      <td>Idade do indivíduo testado, em anos</td>\n",
       "      <td>quantitativa</td>\n",
       "      <td>discreta</td>\n",
       "    </tr>\n",
       "    <tr>\n",
       "      <td>gender</td>\n",
       "      <td>Gênero do indivíduo testado</td>\n",
       "      <td>qualitativa</td>\n",
       "      <td>nominal</td>\n",
       "    </tr>\n",
       "    <tr>\n",
       "      <td>sleep_duration</td>\n",
       "      <td>Quantidade total de tempo em que o indivíduo testado dormiu (em horas)</td>\n",
       "      <td>quantitativa</td>\n",
       "      <td>contínua</td>\n",
       "    </tr>\n",
       "    <tr>\n",
       "      <td>sleep_efficiency</td>\n",
       "      <td>Medida da proporção de tempo na cama gasto dormindo</td>\n",
       "      <td>quantitativa</td>\n",
       "      <td>contínua</td>\n",
       "    </tr>\n",
       "    <tr>\n",
       "      <td>rem_sleep_percentage</td>\n",
       "      <td>Percentual do tempo total gasto em sono REM</td>\n",
       "      <td>quantitativa</td>\n",
       "      <td>discreta</td>\n",
       "    </tr>\n",
       "    <tr>\n",
       "      <td>deep_sleep_percentage</td>\n",
       "      <td>Percentual do tempo total gasto em sono profundo</td>\n",
       "      <td>quantitativa</td>\n",
       "      <td>discreta</td>\n",
       "    </tr>\n",
       "    <tr>\n",
       "      <td>light_sleep_percentage</td>\n",
       "      <td>Percentual do tempo total gasto em sono leve</td>\n",
       "      <td>quantitativa</td>\n",
       "      <td>discreta</td>\n",
       "    </tr>\n",
       "    <tr>\n",
       "      <td>awakenings</td>\n",
       "      <td>O número de vezes em que o indivíduo testado acorda durante a noite</td>\n",
       "      <td>quantitativa</td>\n",
       "      <td>discreta</td>\n",
       "    </tr>\n",
       "    <tr>\n",
       "      <td>caffeine_consumption_mg</td>\n",
       "      <td>A quantidade de cafeína consumida nas 24 horas anteriores a hora de dormir (em mg)</td>\n",
       "      <td>quantitativa</td>\n",
       "      <td>discreta</td>\n",
       "    </tr>\n",
       "    <tr>\n",
       "      <td>alcohol_consumption_g</td>\n",
       "      <td>A quantidade de álcool consumido nas 24 horas anteriores a hora de dormir (em oz)</td>\n",
       "      <td>quantitativa</td>\n",
       "      <td>discreta</td>\n",
       "    </tr>\n",
       "    <tr>\n",
       "      <td>smoking_status</td>\n",
       "      <td>Se o indivíduo testado é fumante ou não fumante</td>\n",
       "      <td>qualitativa</td>\n",
       "      <td>nominal</td>\n",
       "    </tr>\n",
       "    <tr>\n",
       "      <td>exercise_frequency</td>\n",
       "      <td>O número de vezes por semana que o indivíduo testado fez exercícios</td>\n",
       "      <td>quantitativa</td>\n",
       "      <td>discreta</td>\n",
       "    </tr>\n",
       "    <tr>\n",
       "      <td>bedtime_hour_sin</td>\n",
       "      <td>Seno da hora de ir para a cama (representação cíclica)</td>\n",
       "      <td>quantitativa</td>\n",
       "      <td>contínua</td>\n",
       "    </tr>\n",
       "    <tr>\n",
       "      <td>bedtime_hour_cos</td>\n",
       "      <td>Cosseno da hora de ir para a cama (representação cíclica)</td>\n",
       "      <td>quantitativa</td>\n",
       "      <td>contínua</td>\n",
       "    </tr>\n",
       "    <tr>\n",
       "      <td>wakeup_hour_sin</td>\n",
       "      <td>Seno da hora de acordar (representação cíclica)</td>\n",
       "      <td>quantitativa</td>\n",
       "      <td>contínua</td>\n",
       "    </tr>\n",
       "    <tr>\n",
       "      <td>wakeup_hour_cos</td>\n",
       "      <td>Cosseno da hora de acordar (representação cíclica)</td>\n",
       "      <td>quantitativa</td>\n",
       "      <td>contínua</td>\n",
       "    </tr>\n",
       "  </tbody>\n",
       "</table>"
      ],
      "text/plain": [
       "<IPython.core.display.HTML object>"
      ]
     },
     "metadata": {},
     "output_type": "display_data"
    },
    {
     "data": {
      "text/markdown": [
       "---\n",
       "O dicionário de dados atualizado possui **16 variáveis**, sendo elas:\n",
       "* **8** quatitativas discretas\n",
       "* **6** quantitativas contínuas\n",
       "* **2** qualitativas nominais\n",
       "\n",
       "---"
      ],
      "text/plain": [
       "<IPython.core.display.Markdown object>"
      ]
     },
     "metadata": {},
     "output_type": "display_data"
    }
   ],
   "source": [
    "# Criando as novas entradas para o dicionário de dados\n",
    "new_columns = pd.DataFrame({\n",
    "    'variavel': ['bedtime_hour_sin', 'bedtime_hour_cos', 'wakeup_hour_sin', 'wakeup_hour_cos'],\n",
    "    'descricao': [\n",
    "        'Seno da hora de ir para a cama (representação cíclica)',\n",
    "        'Cosseno da hora de ir para a cama (representação cíclica)',\n",
    "        'Seno da hora de acordar (representação cíclica)',\n",
    "        'Cosseno da hora de acordar (representação cíclica)'\n",
    "    ],\n",
    "    'tipo': ['quantitativa', 'quantitativa', 'quantitativa', 'quantitativa'],\n",
    "    'subtipo': ['contínua', 'contínua', 'contínua', 'contínua']\n",
    "})\n",
    "\n",
    "df_dict = pd.concat([df_dict, new_columns], ignore_index=True)\n",
    "\n",
    "# Substituindo os nomes das variáveis no dicionário de dados\n",
    "df_dict['variavel'] = df_dict['variavel'].str.replace(' ', '_').str.lower()\n",
    "\n",
    "df_dict.replace({\n",
    "      'caffeine_consumption': 'caffeine_consumption_mg', \n",
    "      'alcohol_consumption': 'alcohol_consumption_g',\n",
    "}, inplace=True)\n",
    "\n",
    "display(HTML(df_dict.to_html(index=False)))\n",
    "\n",
    "display(Markdown(\n",
    "    \"---\\n\"\n",
    "    \"O dicionário de dados atualizado possui **16 variáveis**, sendo elas:\\n\" \n",
    "    \"* **8** quatitativas discretas\\n\"\n",
    "    \"* **6** quantitativas contínuas\\n\" \n",
    "    \"* **2** qualitativas nominais\"\n",
    "    \"\\n\\n\"\n",
    "    \"---\"\n",
    "))"
   ]
  },
  {
   "cell_type": "markdown",
   "id": "f79afd39-7b82-4d32-92e0-f1c67737bd64",
   "metadata": {
    "tags": []
   },
   "source": [
    "<div id='preparacao_dados'><h2>3. Preparação de Dados</h2></div>"
   ]
  },
  {
   "cell_type": "markdown",
   "id": "cf22453a-3ab4-493d-93fc-cdc38233b8d7",
   "metadata": {
    "tags": []
   },
   "source": [
    "Nesta seção, serão realizadas a preparação de dados com a separação da variáveis alvo e variáveis preditoras, o tratamento de dados faltantes e discrepantes, a normalização e a codificação em um pipeline de pré-processamento de dados."
   ]
  },
  {
   "cell_type": "markdown",
   "id": "fcc2f98c-a0f9-4485-bcf0-3f00c1bf872d",
   "metadata": {
    "tags": []
   },
   "source": [
    "<div id='preparo_variaveis'><h3>3.1. Preparação das variáveis para análise</h3></div> "
   ]
  },
  {
   "cell_type": "code",
   "execution_count": 40,
   "id": "13b51785-3fe6-446b-b12f-34ff4528f909",
   "metadata": {
    "tags": []
   },
   "outputs": [
    {
     "data": {
      "text/markdown": [
       "- **Variável alvo:** sleep_efficiency \n",
       "\n",
       "- **Variáveis qualitativas nominais:** ['gender', 'smoking_status'] \n",
       "- **Variáveis quantitativas discretas:** ['age', 'rem_sleep_percentage', 'deep_sleep_percentage', 'light_sleep_percentage', 'awakenings', 'caffeine_consumption_mg', 'alcohol_consumption_g', 'exercise_frequency'] \n",
       "- **Variáveis quantitativas contínuas:** ['sleep_duration', 'bedtime_hour_sin', 'bedtime_hour_cos', 'wakeup_hour_sin', 'wakeup_hour_cos'] \n",
       "---"
      ],
      "text/plain": [
       "<IPython.core.display.Markdown object>"
      ]
     },
     "metadata": {},
     "output_type": "display_data"
    }
   ],
   "source": [
    "# Variável alvo\n",
    "target_column = 'sleep_efficiency'\n",
    "\n",
    "# Variáveis Nominais\n",
    "nominal_columns = (\n",
    "    df_dict\n",
    "    .query(\"subtipo == 'nominal' and variavel != @target_column\")\n",
    "    .variavel\n",
    "    .to_list()\n",
    ")\n",
    "\n",
    "# Variáveis Discretas\n",
    "discrete_columns = (\n",
    "    df_dict\n",
    "    .query(\"subtipo == 'discreta' and variavel != @target_column\")\n",
    "    .variavel\n",
    "    .to_list()\n",
    ")\n",
    "\n",
    "# Variáveis Contínuas\n",
    "continuous_columns = (\n",
    "    df_dict\n",
    "    .query(\"subtipo == 'contínua' and variavel != @target_column\")\n",
    "    .variavel\n",
    "    .to_list()\n",
    ")\n",
    "\n",
    "display(Markdown(\n",
    "    f\"- **Variável alvo:** {target_column} \\n\\n\"\n",
    "    f\"- **Variáveis qualitativas nominais:** {nominal_columns} \\n\"    \n",
    "    f\"- **Variáveis quantitativas discretas:** {discrete_columns} \\n\" \n",
    "    f\"- **Variáveis quantitativas contínuas:** {continuous_columns} \\n\"\n",
    "    \"---\"\n",
    "))\n",
    "\n",
    "# Isolando a variável alvo das variáveis preditoras\n",
    "\n",
    "X = df.drop(columns=[target_column], axis=1)\n",
    "y = df[target_column]"
   ]
  },
  {
   "cell_type": "markdown",
   "id": "91602739-5a73-40d4-90a1-23793a07c674",
   "metadata": {
    "tags": []
   },
   "source": [
    "<div id='tratamento_outliers'><h3>3.2. Tratamento de outliers</h3></div> "
   ]
  },
  {
   "cell_type": "code",
   "execution_count": 41,
   "id": "e3d2d8b7-4460-408a-9c9f-d3644dc9db7f",
   "metadata": {
    "tags": []
   },
   "outputs": [],
   "source": [
    "# Tratamento de outliers pelo Método de Capping\n",
    "\n",
    "# Classe para aplicar o Capping\n",
    "class CappingOutliers(BaseEstimator, TransformerMixin):\n",
    "    def __init__(self, lower_percentile=5, upper_percentile=95):\n",
    "        self.lower_percentile = lower_percentile\n",
    "        self.upper_percentile = upper_percentile\n",
    "\n",
    "    def fit(self, X, y=None):\n",
    "        return self\n",
    "\n",
    "    def transform(self, X):\n",
    "        X_capped = X.copy()\n",
    "        for col in range(X_capped.shape[1]):\n",
    "            lower_bound = np.percentile(X_capped[:, col], self.lower_percentile)\n",
    "            upper_bound = np.percentile(X_capped[:, col], self.upper_percentile)\n",
    "            X_capped[:, col] = np.clip(X_capped[:, col], lower_bound, upper_bound)\n",
    "        return X_capped"
   ]
  },
  {
   "cell_type": "markdown",
   "id": "46d2c5f1-a7c6-4cc6-a1b4-0459614ba3ad",
   "metadata": {},
   "source": [
    "* Para o tratamento de outliers, foi utilizado o **Método de Capping** (ou winsorizing). Esta técnica limita os valores extremos dos dados a intervalos definidos por percentis, tipicamente entre 5% e 95%. \n",
    "\n",
    "* Valores abaixo do limite inferior de 5% são substituídos por esse limite inferior, enquanto valores acima do limite superior de 95% são ajustados para o limite superior. Essa abordagem reduz a influência dos outliers nos modelos de machine learning e minimiza as distorções nos dados."
   ]
  },
  {
   "cell_type": "markdown",
   "id": "3bc3540e-e022-4050-8dab-7e46821321b1",
   "metadata": {
    "tags": []
   },
   "source": [
    "<div id='tratamento_dados'><h3>3.3. Pipeline de pré-processamento de dados</h3></div> "
   ]
  },
  {
   "cell_type": "code",
   "execution_count": 42,
   "id": "1ac85b50-2b2b-41c0-b938-d5ec96f787d7",
   "metadata": {
    "tags": []
   },
   "outputs": [],
   "source": [
    "# Tratamento de dados faltantes e discrepantes, codificação e normalização\n",
    "\n",
    "# Pipeline para variáveis nominais\n",
    "nominal_preprocessor = Pipeline([\n",
    "    ('missing', SimpleImputer(strategy='most_frequent')), # Tratamento de dados faltantes\n",
    "    ('encoding', OneHotEncoder(sparse_output=False, drop='first')), # Codificação de variáveis\n",
    "])\n",
    "\n",
    "# Pipeline para variáveis discretas\n",
    "discrete_preprocessor = Pipeline([\n",
    "    ('missing', SimpleImputer(strategy='median')), # Tratamento de dados faltantes\n",
    "    ('capping', CappingOutliers()), # Tratamento de outliers\n",
    "    ('normalization', StandardScaler()) # Normalização de dados \n",
    "])\n",
    "\n",
    "# Pipeline para variáveis contínuas\n",
    "continuous_preprocessor = Pipeline([\n",
    "    ('missing', SimpleImputer(strategy='median')), # Tratamento de dados faltantes\n",
    "    ('capping', CappingOutliers()), # Tratamento de outliers\n",
    "    ('normalization', StandardScaler()) # Normalização de dados \n",
    "])\n",
    "\n",
    "# Combinação dos pipelines em um ColumnTransformer\n",
    "preprocessor = ColumnTransformer([\n",
    "    ('nominal', nominal_preprocessor, nominal_columns),\n",
    "    ('discrete', discrete_preprocessor, discrete_columns),\n",
    "    ('continuous', continuous_preprocessor, continuous_columns),\n",
    "])"
   ]
  },
  {
   "cell_type": "code",
   "execution_count": 43,
   "id": "99dfb2f4-8634-4b73-a974-36bcb92b2095",
   "metadata": {
    "tags": []
   },
   "outputs": [
    {
     "data": {
      "text/plain": [
       "(452, 15)"
      ]
     },
     "execution_count": 43,
     "metadata": {},
     "output_type": "execute_result"
    }
   ],
   "source": [
    "# Aplicando o pipeline de pré-processamento aos dados X\n",
    "X_transformed = preprocessor.fit_transform(X)\n",
    "X_transformed.shape"
   ]
  },
  {
   "cell_type": "code",
   "execution_count": 44,
   "id": "f746b381-8add-4e59-afc6-ac085ecb0d9d",
   "metadata": {
    "tags": []
   },
   "outputs": [
    {
     "data": {
      "text/plain": [
       "array([[ 0.        ,  1.        ,  1.66055508, ...,  0.66026388,\n",
       "         0.72209977, -0.12175529],\n",
       "       [ 1.        ,  1.        ,  1.66055508, ..., -0.33917349,\n",
       "        -0.97132271, -1.13124595],\n",
       "       [ 0.        ,  0.        , -0.02503885, ..., -1.92904877,\n",
       "         0.72209977,  1.04390413],\n",
       "       ...,\n",
       "       [ 0.        ,  1.        , -0.02503885, ...,  0.66026388,\n",
       "         0.72209977, -0.12175529],\n",
       "       [ 1.        ,  0.        ,  0.37629304, ..., -1.92904877,\n",
       "         0.06846309,  1.58701496],\n",
       "       [ 1.        ,  0.        , -1.55010002, ..., -0.33917349,\n",
       "        -2.32639794, -1.48911179]])"
      ]
     },
     "metadata": {},
     "output_type": "display_data"
    }
   ],
   "source": [
    "# Apresentando o pré-processamento dos dados X\n",
    "display(X_transformed)"
   ]
  },
  {
   "cell_type": "markdown",
   "id": "581902a4-d2ea-43ff-859d-185ea9f21360",
   "metadata": {},
   "source": [
    "* **Pipeline de variáveis nominais:** Inclui a imputação de valores faltantes pela moda, codificação das variáveis com **One-Hot Encoder**. O método de **Dummy Encoding** é utilizado, excluindo a primeira categoria para evitar multicolinearidade. \n",
    "\n",
    "* **Pipeline de variáveis contínuas e discretas:** Inclui a imputação de valores faltantes pela mediana, o tratamento de outliers pelo **Método de Capping** e a normalização com o **Standard Scaler**. \n",
    "\n",
    "* **Combinação dos pipelines:** Ambos os pipelines foram combinados em um **ColumnTransformer**, que aplica o pré-processamento adequado a cada grupo de colunas pré-estabelecido."
   ]
  },
  {
   "cell_type": "markdown",
   "id": "91590823-dbd7-4c4a-b914-2bd8b9330ad3",
   "metadata": {
    "tags": []
   },
   "source": [
    "<div id='verificacao_dados'><h3>3.4. Verificação de dados após o pré-processamento</h3></div> "
   ]
  },
  {
   "cell_type": "markdown",
   "id": "8b9a6397-496f-4b2d-aff7-517154de1c51",
   "metadata": {},
   "source": [
    "#### Verificação de dados faltantes ou nulos"
   ]
  },
  {
   "cell_type": "code",
   "execution_count": 45,
   "id": "427fd37d-5dfd-4aad-a0c7-757d4edc9dda",
   "metadata": {
    "tags": []
   },
   "outputs": [
    {
     "data": {
      "text/markdown": [
       "*Número de dados faltantes após o pré-processamento:* \n"
      ],
      "text/plain": [
       "<IPython.core.display.Markdown object>"
      ]
     },
     "metadata": {},
     "output_type": "display_data"
    },
    {
     "data": {
      "text/plain": [
       "0"
      ]
     },
     "execution_count": 45,
     "metadata": {},
     "output_type": "execute_result"
    }
   ],
   "source": [
    "# Verificando se ainda existem dados faltantes ou nulos após a etapa de pré-processamento\n",
    "display(Markdown(\"*Número de dados faltantes após o pré-processamento:* \\n\"))\n",
    "np.isnan(X_transformed).sum()"
   ]
  },
  {
   "cell_type": "markdown",
   "id": "38660b06-0390-4097-87c0-5c3bd5cd81fd",
   "metadata": {
    "tags": []
   },
   "source": [
    "#### Verificação de outliers"
   ]
  },
  {
   "cell_type": "code",
   "execution_count": 46,
   "id": "5900f638-f840-4bdb-9cc7-7a37a5208a76",
   "metadata": {
    "tags": []
   },
   "outputs": [
    {
     "data": {
      "text/markdown": [
       "*Número de outliers após o pré-processamento:*\n"
      ],
      "text/plain": [
       "<IPython.core.display.Markdown object>"
      ]
     },
     "metadata": {},
     "output_type": "display_data"
    },
    {
     "name": "stdout",
     "output_type": "stream",
     "text": [
      "sleep_duration: 0\n",
      "bedtime_hour_sin: 0\n",
      "bedtime_hour_cos: 0\n",
      "wakeup_hour_sin: 0\n",
      "wakeup_hour_cos: 0\n",
      "age: 0\n",
      "rem_sleep_percentage: 0\n",
      "deep_sleep_percentage: 0\n",
      "light_sleep_percentage: 0\n",
      "awakenings: 0\n",
      "caffeine_consumption_mg: 0\n",
      "alcohol_consumption_g: 0\n",
      "exercise_frequency: 0\n"
     ]
    }
   ],
   "source": [
    "# Verificando se ainda existem dados discrepantes após a etapa de pré-processamento\n",
    "def detect_outliers(data, column_names, threshold=3):\n",
    "    outliers_info = {}\n",
    "    z_scores = np.abs(stats.zscore(data))\n",
    "    for i, column_name in enumerate(column_names):\n",
    "        outliers = (z_scores[:, i] > threshold)\n",
    "        outliers_info[column_name] = np.sum(outliers)\n",
    "    return outliers_info\n",
    "\n",
    "# Lista dos nomes das colunas originais, incluindo as colunas contínuas e discretas\n",
    "column_names = continuous_columns + discrete_columns\n",
    "\n",
    "# Aplicando a detecção de outliers com Z-Score Ajustado\n",
    "outliers = detect_outliers(X_transformed, column_names)\n",
    "\n",
    "# Exibindo o número de outliers por coluna\n",
    "display(Markdown(\"*Número de outliers após o pré-processamento:*\\n\"))\n",
    "for column, count in outliers.items():\n",
    "    print(f\"{column}: {count}\")"
   ]
  },
  {
   "cell_type": "markdown",
   "id": "c3fb3386-a976-4bf1-a1a1-032fcd0977fd",
   "metadata": {},
   "source": [
    "* Após a transformação, foi confirmada a ausência de dados faltantes, com a soma de valores `NaN` resultando em `0`.\n",
    "\n",
    "* Por meio do método Z-score, foi observada também a ausência de valores discrepantes após a etapa de pré-processamento.\n",
    "\n",
    "---"
   ]
  },
  {
   "cell_type": "markdown",
   "id": "8805891e-6379-4d30-97ab-be34fa172d2d",
   "metadata": {
    "tags": []
   },
   "source": [
    "<div id='modelagem_preditiva'><h2> 4. Modelagem Preditiva</h2></div>"
   ]
  },
  {
   "cell_type": "markdown",
   "id": "1f61c61d-cdd9-4a1c-9b13-edd2b95f1a94",
   "metadata": {
    "tags": []
   },
   "source": [
    "<div id='seleção_de_modelos'><h3>4.1. Seleção de Modelos</h3></div> "
   ]
  },
  {
   "cell_type": "markdown",
   "id": "1d022c35-8305-4f52-ba15-9475be9e5389",
   "metadata": {},
   "source": [
    "Vamos realizar a avaliação de quatro modelos de aprendizado de máquina utilizando um processo de validação para identificar qual deles apresenta o melhor desempenho no conjunto de dados analisado em questão. Os modelos que serão analisados incluem:\n",
    "\n",
    "**1. Regressão Linear:** Ajusta uma linha reta aos dados para prever uma variável contínua, ideal para relações lineares.\n",
    "\n",
    "**2. Regressão Ridge:** Adiciona regularização para controlar a magnitude dos coeficientes, prevenindo overfitting em cenários com muitas variáveis.\n",
    "\n",
    "**3. Regressão Lasso:** Inclui regularização e seleção de variáveis, simplificando o modelo ao forçar alguns coeficientes a zero.\n",
    "\n",
    "**4. Random Forest Regressor:** Usa um conjunto de árvores de decisão para prever valores contínuos, melhorando a precisão e reduzindo o overfitting.\n",
    "\n",
    "Para cada um desses modelos, experimentaremos diferentes conjuntos de hiperparâmetros, a fim de encontrar a configuração mais eficaz.\n",
    "\n",
    "As métricas que utilizamos para avaliar a performance dos modelos foram:\n",
    "\n",
    "**1. `mean_squared_error` (como `scoring`):** É uma métrica de avaliação para problemas de regressão que calcula o erro quadrático médio entre os valores reais e previstos. \n",
    "\n",
    "**2. `neg_mean_squared_error` (como parte de `metrics`):** É o erro quadrático médio, mas negado para ser usado em funções de otimização que esperam que valores maiores sejam melhores. \n",
    "\n",
    "**3. `r2` (como parte de `metrics`):** O coeficiente de determinação, que mede a proporção da variância nos dados dependentes que é previsível a partir das variáveis independentes. \n",
    "\n",
    "**4. `fit_time`:** é o tempo necessário para treinar um modelo em um conjunto de dados.\n",
    "\n",
    "Essas métricas nos permitirão comparar os modelos de forma abrangente, identificando qual deles é mais adequado para o conjunto de dados em análise."
   ]
  },
  {
   "cell_type": "code",
   "execution_count": 47,
   "id": "7ba44917-3880-4e24-955b-a2f9ee14d17d",
   "metadata": {
    "tags": []
   },
   "outputs": [],
   "source": [
    "# Configurações do experimento\n",
    "\n",
    "n_splits_comparative_analysis = 10\n",
    "n_folds_grid_search = 5\n",
    "test_size = 0.2\n",
    "random_state = 42\n",
    "# scoring = 'accuracy'\n",
    "# metrics = ['accuracy', 'precision_macro', 'recall_macro', 'f1_macro']\n",
    "scoring = make_scorer(mean_squared_error, greater_is_better=False)\n",
    "metrics = ['neg_mean_squared_error', 'r2']\n",
    "\n",
    "# Configurações dos modelos de regressão\n",
    "\n",
    "models = [\n",
    "    ('Linear Regression', LinearRegression(), {}),\n",
    "    ('Ridge Regression', Ridge(), {\n",
    "        'alpha': [0.1, 1.0, 10.0, 100.0]\n",
    "    }),\n",
    "    ('Lasso Regression', Lasso(), {\n",
    "        'alpha': [0.01, 0.1, 1.0, 10.0]\n",
    "    }),\n",
    "    ('Random Forest Regressor', RandomForestRegressor(random_state=random_state), {\n",
    "        'n_estimators': [10, 50, 100],\n",
    "        'max_depth': [3, 6, 8],\n",
    "    }),\n",
    "]"
   ]
  },
  {
   "cell_type": "markdown",
   "id": "b7602514-0dee-4b96-9f92-73e738932564",
   "metadata": {},
   "source": [
    "Nessa parte configura-se o experimento de **aprendizagem de máquina** para avaliar modelos de regressão, definindo parâmetros para validação cruzada, métricas de erro e uma lista de modelos com hiperparâmetros para ajuste e avaliação."
   ]
  },
  {
   "cell_type": "code",
   "execution_count": 48,
   "id": "5cdf07b8-d3b4-4844-a1e2-c36bde39cee4",
   "metadata": {
    "tags": []
   },
   "outputs": [
    {
     "name": "stdout",
     "output_type": "stream",
     "text": [
      "running Linear Regression...\n"
     ]
    },
    {
     "data": {
      "text/html": [
       "<div>\n",
       "<style scoped>\n",
       "    .dataframe tbody tr th:only-of-type {\n",
       "        vertical-align: middle;\n",
       "    }\n",
       "\n",
       "    .dataframe tbody tr th {\n",
       "        vertical-align: top;\n",
       "    }\n",
       "\n",
       "    .dataframe thead th {\n",
       "        text-align: right;\n",
       "    }\n",
       "</style>\n",
       "<table border=\"1\" class=\"dataframe\">\n",
       "  <thead>\n",
       "    <tr style=\"text-align: right;\">\n",
       "      <th></th>\n",
       "      <th>fit_time</th>\n",
       "      <th>score_time</th>\n",
       "      <th>test_neg_mean_squared_error</th>\n",
       "      <th>test_r2</th>\n",
       "    </tr>\n",
       "  </thead>\n",
       "  <tbody>\n",
       "    <tr>\n",
       "      <th>mean</th>\n",
       "      <td>0.836448</td>\n",
       "      <td>0.211082</td>\n",
       "      <td>-0.003685</td>\n",
       "      <td>0.803391</td>\n",
       "    </tr>\n",
       "    <tr>\n",
       "      <th>std</th>\n",
       "      <td>0.203240</td>\n",
       "      <td>0.060242</td>\n",
       "      <td>0.000415</td>\n",
       "      <td>0.030598</td>\n",
       "    </tr>\n",
       "  </tbody>\n",
       "</table>\n",
       "</div>"
      ],
      "text/plain": [
       "      fit_time  score_time  test_neg_mean_squared_error   test_r2\n",
       "mean  0.836448    0.211082                    -0.003685  0.803391\n",
       "std   0.203240    0.060242                     0.000415  0.030598"
      ]
     },
     "metadata": {},
     "output_type": "display_data"
    },
    {
     "name": "stdout",
     "output_type": "stream",
     "text": [
      "running Ridge Regression...\n"
     ]
    },
    {
     "data": {
      "text/html": [
       "<div>\n",
       "<style scoped>\n",
       "    .dataframe tbody tr th:only-of-type {\n",
       "        vertical-align: middle;\n",
       "    }\n",
       "\n",
       "    .dataframe tbody tr th {\n",
       "        vertical-align: top;\n",
       "    }\n",
       "\n",
       "    .dataframe thead th {\n",
       "        text-align: right;\n",
       "    }\n",
       "</style>\n",
       "<table border=\"1\" class=\"dataframe\">\n",
       "  <thead>\n",
       "    <tr style=\"text-align: right;\">\n",
       "      <th></th>\n",
       "      <th>fit_time</th>\n",
       "      <th>score_time</th>\n",
       "      <th>test_neg_mean_squared_error</th>\n",
       "      <th>test_r2</th>\n",
       "    </tr>\n",
       "  </thead>\n",
       "  <tbody>\n",
       "    <tr>\n",
       "      <th>mean</th>\n",
       "      <td>1.421759</td>\n",
       "      <td>0.265221</td>\n",
       "      <td>-0.003648</td>\n",
       "      <td>0.805381</td>\n",
       "    </tr>\n",
       "    <tr>\n",
       "      <th>std</th>\n",
       "      <td>0.112516</td>\n",
       "      <td>0.063767</td>\n",
       "      <td>0.000388</td>\n",
       "      <td>0.029406</td>\n",
       "    </tr>\n",
       "  </tbody>\n",
       "</table>\n",
       "</div>"
      ],
      "text/plain": [
       "      fit_time  score_time  test_neg_mean_squared_error   test_r2\n",
       "mean  1.421759    0.265221                    -0.003648  0.805381\n",
       "std   0.112516    0.063767                     0.000388  0.029406"
      ]
     },
     "metadata": {},
     "output_type": "display_data"
    },
    {
     "name": "stdout",
     "output_type": "stream",
     "text": [
      "running Lasso Regression...\n"
     ]
    },
    {
     "data": {
      "text/html": [
       "<div>\n",
       "<style scoped>\n",
       "    .dataframe tbody tr th:only-of-type {\n",
       "        vertical-align: middle;\n",
       "    }\n",
       "\n",
       "    .dataframe tbody tr th {\n",
       "        vertical-align: top;\n",
       "    }\n",
       "\n",
       "    .dataframe thead th {\n",
       "        text-align: right;\n",
       "    }\n",
       "</style>\n",
       "<table border=\"1\" class=\"dataframe\">\n",
       "  <thead>\n",
       "    <tr style=\"text-align: right;\">\n",
       "      <th></th>\n",
       "      <th>fit_time</th>\n",
       "      <th>score_time</th>\n",
       "      <th>test_neg_mean_squared_error</th>\n",
       "      <th>test_r2</th>\n",
       "    </tr>\n",
       "  </thead>\n",
       "  <tbody>\n",
       "    <tr>\n",
       "      <th>mean</th>\n",
       "      <td>1.74940</td>\n",
       "      <td>0.304311</td>\n",
       "      <td>-0.004256</td>\n",
       "      <td>0.772643</td>\n",
       "    </tr>\n",
       "    <tr>\n",
       "      <th>std</th>\n",
       "      <td>0.35932</td>\n",
       "      <td>0.109461</td>\n",
       "      <td>0.000410</td>\n",
       "      <td>0.035300</td>\n",
       "    </tr>\n",
       "  </tbody>\n",
       "</table>\n",
       "</div>"
      ],
      "text/plain": [
       "      fit_time  score_time  test_neg_mean_squared_error   test_r2\n",
       "mean   1.74940    0.304311                    -0.004256  0.772643\n",
       "std    0.35932    0.109461                     0.000410  0.035300"
      ]
     },
     "metadata": {},
     "output_type": "display_data"
    },
    {
     "name": "stdout",
     "output_type": "stream",
     "text": [
      "running Random Forest Regressor...\n"
     ]
    },
    {
     "data": {
      "text/html": [
       "<div>\n",
       "<style scoped>\n",
       "    .dataframe tbody tr th:only-of-type {\n",
       "        vertical-align: middle;\n",
       "    }\n",
       "\n",
       "    .dataframe tbody tr th {\n",
       "        vertical-align: top;\n",
       "    }\n",
       "\n",
       "    .dataframe thead th {\n",
       "        text-align: right;\n",
       "    }\n",
       "</style>\n",
       "<table border=\"1\" class=\"dataframe\">\n",
       "  <thead>\n",
       "    <tr style=\"text-align: right;\">\n",
       "      <th></th>\n",
       "      <th>fit_time</th>\n",
       "      <th>score_time</th>\n",
       "      <th>test_neg_mean_squared_error</th>\n",
       "      <th>test_r2</th>\n",
       "    </tr>\n",
       "  </thead>\n",
       "  <tbody>\n",
       "    <tr>\n",
       "      <th>mean</th>\n",
       "      <td>58.854953</td>\n",
       "      <td>0.263034</td>\n",
       "      <td>-0.002494</td>\n",
       "      <td>0.866401</td>\n",
       "    </tr>\n",
       "    <tr>\n",
       "      <th>std</th>\n",
       "      <td>4.925973</td>\n",
       "      <td>0.103567</td>\n",
       "      <td>0.000416</td>\n",
       "      <td>0.028522</td>\n",
       "    </tr>\n",
       "  </tbody>\n",
       "</table>\n",
       "</div>"
      ],
      "text/plain": [
       "       fit_time  score_time  test_neg_mean_squared_error   test_r2\n",
       "mean  58.854953    0.263034                    -0.002494  0.866401\n",
       "std    4.925973    0.103567                     0.000416  0.028522"
      ]
     },
     "metadata": {},
     "output_type": "display_data"
    }
   ],
   "source": [
    "# Análise de Desempenho de Modelos de Regressão com Busca em Grade e Validação Cruzada\n",
    "\n",
    "results = pd.DataFrame({})\n",
    "cross_validate_grid_search = KFold(n_splits=n_folds_grid_search)\n",
    "cross_validate_comparative_analysis = ShuffleSplit(n_splits=n_splits_comparative_analysis, test_size=test_size, random_state=random_state)\n",
    "\n",
    "for model_name, model_object, model_parameters in models:\n",
    "    print(f\"running {model_name}...\")\n",
    "    model_grid_search = GridSearchCV(\n",
    "        estimator=model_object,\n",
    "        param_grid=model_parameters,\n",
    "        scoring=scoring,\n",
    "        n_jobs=-1,\n",
    "        cv=cross_validate_grid_search\n",
    "    )\n",
    "    approach = Pipeline(steps=[\n",
    "        ('preprocessor', preprocessor),\n",
    "        ('model', model_grid_search)\n",
    "    ])\n",
    "    scores = cross_validate(\n",
    "        estimator=approach,\n",
    "        X=X,\n",
    "        y=y,\n",
    "        cv=cross_validate_comparative_analysis,\n",
    "        n_jobs=-1,\n",
    "        scoring=metrics\n",
    "    )\n",
    "    scores['model_name'] = [model_name] * n_splits_comparative_analysis  \n",
    "    display(pd.DataFrame(scores).drop(columns=['model_name']).agg(['mean', 'std']))\n",
    "    results = pd.concat([results, pd.DataFrame(scores)], ignore_index=True)"
   ]
  },
  {
   "cell_type": "markdown",
   "id": "9b408134-ab56-44f1-8629-eca3319c1b1e",
   "metadata": {},
   "source": [
    "* O Random Forest Regressor tem o maior tempo de treinamento médio (58.85 segundos), significativamente maior do que os outros modelos, indicando que é mais custoso em termos de tempo. O Lasso Regression e o Ridge Regression têm tempos de treinamento intermediários, enquanto a Linear Regression é a mais rápida.\n",
    "\n",
    "* O tempo médio de avaliação é relativamente semelhante entre todos os modelos, com o Random Forest Regressor tendo um tempo de avaliação comparável aos modelos Ridge e Lasso Regression, e a Linear Regression sendo a mais rápida.\n",
    "\n",
    "* O Random Forest Regressor apresenta o menor erro quadrático médio negativo, o que indica que ele tem o melhor desempenho preditivo, com menor diferença entre os valores reais e previstos. O Lasso Regression tem o maior erro, sugerindo um desempenho inferior.\n",
    "\n",
    "* O Random Forest Regressor também tem o maior valor médio de R² (0.866), o que indica que ele explica a maior proporção da variância nos dados. Os outros modelos, especialmente o Lasso Regression, apresentam valores de R² menores, com o Lasso Regression tendo o menor."
   ]
  },
  {
   "cell_type": "code",
   "execution_count": 49,
   "id": "3c1e6f9d-3001-44ba-a394-588192ba751e",
   "metadata": {
    "tags": []
   },
   "outputs": [
    {
     "data": {
      "text/markdown": [
       "### 4.2. Resultados gerais"
      ],
      "text/plain": [
       "<IPython.core.display.Markdown object>"
      ]
     },
     "metadata": {},
     "output_type": "display_data"
    },
    {
     "data": {
      "text/html": [
       "<style type=\"text/css\">\n",
       "#T_2c974 td {\n",
       "  text-align: center;\n",
       "}\n",
       "#T_2c974_row0_col1, #T_2c974_row2_col1, #T_2c974_row4_col2, #T_2c974_row6_col2 {\n",
       "  color: white;\n",
       "  background-color: gray;\n",
       "  font-weight: bold;\n",
       "}\n",
       "</style>\n",
       "<table id=\"T_2c974\">\n",
       "  <thead>\n",
       "    <tr>\n",
       "      <th class=\"blank\" >&nbsp;</th>\n",
       "      <th class=\"index_name level0\" >model_name</th>\n",
       "      <th id=\"T_2c974_level0_col0\" class=\"col_heading level0 col0\" >Lasso Regression</th>\n",
       "      <th id=\"T_2c974_level0_col1\" class=\"col_heading level0 col1\" >Linear Regression</th>\n",
       "      <th id=\"T_2c974_level0_col2\" class=\"col_heading level0 col2\" >Random Forest Regressor</th>\n",
       "      <th id=\"T_2c974_level0_col3\" class=\"col_heading level0 col3\" >Ridge Regression</th>\n",
       "    </tr>\n",
       "  </thead>\n",
       "  <tbody>\n",
       "    <tr>\n",
       "      <th id=\"T_2c974_level0_row0\" class=\"row_heading level0 row0\" rowspan=\"2\">fit_time</th>\n",
       "      <th id=\"T_2c974_level1_row0\" class=\"row_heading level1 row0\" >mean</th>\n",
       "      <td id=\"T_2c974_row0_col0\" class=\"data row0 col0\" >1.749400</td>\n",
       "      <td id=\"T_2c974_row0_col1\" class=\"data row0 col1\" >0.836448</td>\n",
       "      <td id=\"T_2c974_row0_col2\" class=\"data row0 col2\" >58.854953</td>\n",
       "      <td id=\"T_2c974_row0_col3\" class=\"data row0 col3\" >1.421759</td>\n",
       "    </tr>\n",
       "    <tr>\n",
       "      <th id=\"T_2c974_level1_row1\" class=\"row_heading level1 row1\" >std</th>\n",
       "      <td id=\"T_2c974_row1_col0\" class=\"data row1 col0\" >0.359320</td>\n",
       "      <td id=\"T_2c974_row1_col1\" class=\"data row1 col1\" >0.203240</td>\n",
       "      <td id=\"T_2c974_row1_col2\" class=\"data row1 col2\" >4.925973</td>\n",
       "      <td id=\"T_2c974_row1_col3\" class=\"data row1 col3\" >0.112516</td>\n",
       "    </tr>\n",
       "    <tr>\n",
       "      <th id=\"T_2c974_level0_row2\" class=\"row_heading level0 row2\" rowspan=\"2\">score_time</th>\n",
       "      <th id=\"T_2c974_level1_row2\" class=\"row_heading level1 row2\" >mean</th>\n",
       "      <td id=\"T_2c974_row2_col0\" class=\"data row2 col0\" >0.304311</td>\n",
       "      <td id=\"T_2c974_row2_col1\" class=\"data row2 col1\" >0.211082</td>\n",
       "      <td id=\"T_2c974_row2_col2\" class=\"data row2 col2\" >0.263034</td>\n",
       "      <td id=\"T_2c974_row2_col3\" class=\"data row2 col3\" >0.265221</td>\n",
       "    </tr>\n",
       "    <tr>\n",
       "      <th id=\"T_2c974_level1_row3\" class=\"row_heading level1 row3\" >std</th>\n",
       "      <td id=\"T_2c974_row3_col0\" class=\"data row3 col0\" >0.109461</td>\n",
       "      <td id=\"T_2c974_row3_col1\" class=\"data row3 col1\" >0.060242</td>\n",
       "      <td id=\"T_2c974_row3_col2\" class=\"data row3 col2\" >0.103567</td>\n",
       "      <td id=\"T_2c974_row3_col3\" class=\"data row3 col3\" >0.063767</td>\n",
       "    </tr>\n",
       "    <tr>\n",
       "      <th id=\"T_2c974_level0_row4\" class=\"row_heading level0 row4\" rowspan=\"2\">test_neg_mean_squared_error</th>\n",
       "      <th id=\"T_2c974_level1_row4\" class=\"row_heading level1 row4\" >mean</th>\n",
       "      <td id=\"T_2c974_row4_col0\" class=\"data row4 col0\" >-0.004256</td>\n",
       "      <td id=\"T_2c974_row4_col1\" class=\"data row4 col1\" >-0.003685</td>\n",
       "      <td id=\"T_2c974_row4_col2\" class=\"data row4 col2\" >-0.002494</td>\n",
       "      <td id=\"T_2c974_row4_col3\" class=\"data row4 col3\" >-0.003648</td>\n",
       "    </tr>\n",
       "    <tr>\n",
       "      <th id=\"T_2c974_level1_row5\" class=\"row_heading level1 row5\" >std</th>\n",
       "      <td id=\"T_2c974_row5_col0\" class=\"data row5 col0\" >0.000410</td>\n",
       "      <td id=\"T_2c974_row5_col1\" class=\"data row5 col1\" >0.000415</td>\n",
       "      <td id=\"T_2c974_row5_col2\" class=\"data row5 col2\" >0.000416</td>\n",
       "      <td id=\"T_2c974_row5_col3\" class=\"data row5 col3\" >0.000388</td>\n",
       "    </tr>\n",
       "    <tr>\n",
       "      <th id=\"T_2c974_level0_row6\" class=\"row_heading level0 row6\" rowspan=\"2\">test_r2</th>\n",
       "      <th id=\"T_2c974_level1_row6\" class=\"row_heading level1 row6\" >mean</th>\n",
       "      <td id=\"T_2c974_row6_col0\" class=\"data row6 col0\" >0.772643</td>\n",
       "      <td id=\"T_2c974_row6_col1\" class=\"data row6 col1\" >0.803391</td>\n",
       "      <td id=\"T_2c974_row6_col2\" class=\"data row6 col2\" >0.866401</td>\n",
       "      <td id=\"T_2c974_row6_col3\" class=\"data row6 col3\" >0.805381</td>\n",
       "    </tr>\n",
       "    <tr>\n",
       "      <th id=\"T_2c974_level1_row7\" class=\"row_heading level1 row7\" >std</th>\n",
       "      <td id=\"T_2c974_row7_col0\" class=\"data row7 col0\" >0.035300</td>\n",
       "      <td id=\"T_2c974_row7_col1\" class=\"data row7 col1\" >0.030598</td>\n",
       "      <td id=\"T_2c974_row7_col2\" class=\"data row7 col2\" >0.028522</td>\n",
       "      <td id=\"T_2c974_row7_col3\" class=\"data row7 col3\" >0.029406</td>\n",
       "    </tr>\n",
       "  </tbody>\n",
       "</table>\n"
      ],
      "text/plain": [
       "<pandas.io.formats.style.Styler at 0x7f97b35efee0>"
      ]
     },
     "execution_count": 49,
     "metadata": {},
     "output_type": "execute_result"
    }
   ],
   "source": [
    "# Destacar Melhores Resultados em Tabela de Desempenho de Modelos de Regressão\n",
    "\n",
    "def highlight_best(s, props=''):\n",
    "    if s.name[1] != 'std':\n",
    "        if s.name[0].endswith('time'):\n",
    "            return np.where(s == np.nanmin(s.values), props, '')\n",
    "        return np.where(s == np.nanmax(s.values), props, '')\n",
    "\n",
    "display(Markdown(\"### 4.2. Resultados gerais\"))\n",
    "(\n",
    "    results\n",
    "    .groupby('model_name')\n",
    "    .agg(['mean', 'std']).T\n",
    "    .style\n",
    "    .apply(highlight_best, props='color:white;background-color:gray;font-weight: bold;', axis=1)\n",
    "    .set_table_styles([{'selector': 'td', 'props': 'text-align: center;'}])\n",
    ")"
   ]
  },
  {
   "cell_type": "markdown",
   "id": "8ba10433-4144-4903-b2d0-4745c36a40ac",
   "metadata": {
    "tags": []
   },
   "source": [
    "<div id='verificacao_dados'><h3>4.3. Persistência do Modelo</h3></div> "
   ]
  },
  {
   "cell_type": "code",
   "execution_count": 51,
   "id": "43af18f1-a2f4-4c0c-9197-4e5eee73cba3",
   "metadata": {
    "tags": []
   },
   "outputs": [
    {
     "name": "stdout",
     "output_type": "stream",
     "text": [
      "Hiper parâmetros do modelo: {'max_depth': 6, 'n_estimators': 10}\n"
     ]
    }
   ],
   "source": [
    "# Obtêm-se o modelo e os parametros ganhadores\n",
    "\n",
    "model_name, model_object, model_parameters  = [foo for foo in models if foo[0] == \"Random Forest Regressor\"][0] \n",
    "\n",
    "model_grid_search = GridSearchCV(\n",
    "        estimator=model_object,\n",
    "        param_grid=model_parameters,\n",
    "        scoring=scoring,\n",
    "        n_jobs=-1,\n",
    "        cv=cross_validate_grid_search\n",
    "    )\n",
    "\n",
    "approach = Pipeline([\n",
    "    (\"preprocessor\", preprocessor),\n",
    "    (\"model\", model_grid_search)\n",
    "])\n",
    "\n",
    "approach.fit(X, y) #Seleciona o approach\n",
    "\n",
    "print(f\"Hiper parâmetros do modelo: {approach.steps[1][1].best_params_}\")"
   ]
  }
 ],
 "metadata": {
  "kernelspec": {
   "display_name": "Python 3 (ipykernel)",
   "language": "python",
   "name": "python3"
  },
  "language_info": {
   "codemirror_mode": {
    "name": "ipython",
    "version": 3
   },
   "file_extension": ".py",
   "mimetype": "text/x-python",
   "name": "python",
   "nbconvert_exporter": "python",
   "pygments_lexer": "ipython3",
   "version": "3.10.11"
  }
 },
 "nbformat": 4,
 "nbformat_minor": 5
}
